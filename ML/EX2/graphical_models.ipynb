{
 "cells": [
  {
   "cell_type": "markdown",
   "metadata": {},
   "source": [
    "<center>\n",
    "<a href=\"https://www.vision.rwth-aachen.de/\"><img src=\"data:image/png;base64,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\" alt=\"Vision Institute i13\" width=\"320\"/></a>\n",
    "</center>\n",
    "\n",
    "# Advanced Machine Learning Excercises\n",
    "\n",
    "**Assistants:**\n",
    "<br>\n",
    "Alexey Nekrasov &lt;nekrasov@vision.rwth-aachen.de&gt;\n",
    "<br>\n",
    "Jens Piekenbrinck &lt;piekenbrinck@vision.rwth-aachen.de&gt;\n",
    "\n",
    "The assignments are **NOT** mandatory, but we still encourage you to work on them, in order to gain a deeper understanding.\n",
    "\n",
    "We want to provide you with an interactive learning experience, so the assignments rely on [Jupyter](https://jupyter.org/) notebooks which you can run locally on your computer. The RWTH also offers a [JupyterHub](jupyter.rwth-aachen.de/) where you can run notebooks. If you have any questions, please contact us.\n",
    "\n",
    "Make sure you fill in any place in *code cells* that says:\n",
    "```python\n",
    "# YOUR CODE HERE\n",
    "raise NotImplementedError()\n",
    "```\n",
    "\n",
    "Make sure you fill in any place in *text cells* that says:\n",
    "<br>\n",
    "\n",
    "`YOUR ANSWER HERE`\n",
    "\n",
    "\n",
    "### Submission:\n",
    "Before submission remove outputs from the notebooks to prevent sending large files.\n",
    "With images a hundred submissions could occupy a few GB of space.\n",
    "To erase the outputs before submission, use a tool [nbstripout](https://github.com/kynan/nbstripout).\n",
    "\n",
    "Upload all the notebook files with your changes to moodle. **IMPORTANT**: Do not rename files.\n",
    "\n",
    "⏰ Due date: 2024-05-27 23:59:00"
   ]
  },
  {
   "cell_type": "markdown",
   "metadata": {
    "deletable": false,
    "editable": false,
    "nbgrader": {
     "cell_type": "markdown",
     "checksum": "610abc11a7e8e8aa84516f6804ba6b3c",
     "grade": false,
     "grade_id": "cell-cbd60ba0300bee11",
     "locked": true,
     "schema_version": 3,
     "solution": false,
     "task": false
    },
    "pycharm": {
     "name": "#%% md\n"
    }
   },
   "source": [
    "# Exercise 2:  Graphical Models and Exact Inference"
   ]
  },
  {
   "cell_type": "markdown",
   "metadata": {
    "deletable": false,
    "editable": false,
    "nbgrader": {
     "cell_type": "markdown",
     "checksum": "18da7b8545d1d2b2e4ecddb68006468b",
     "grade": false,
     "grade_id": "cell-bf4a8b2cad6c7a0d",
     "locked": true,
     "schema_version": 3,
     "solution": false,
     "task": false
    },
    "toc": true
   },
   "source": [
    "<h1>Table of Contents<span class=\"tocSkip\"></span></h1>\n",
    "<div class=\"toc\"><ul class=\"toc-item\"><li><span><a href=\"#Exercise-2:--Graphical-Models-and-Exact-Inference\" data-toc-modified-id=\"Exercise-2:--Graphical-Models-and-Exact-Inference-1\"><span class=\"toc-item-num\">1&nbsp;&nbsp;</span>Exercise 2:  Graphical Models and Exact Inference</a></span><ul class=\"toc-item\"><li><span><a href=\"#Bayes-Ball,-D-Separation\" data-toc-modified-id=\"Bayes-Ball,-D-Separation-1.1\"><span class=\"toc-item-num\">1.1&nbsp;&nbsp;</span>Bayes-Ball, D-Separation</a></span><ul class=\"toc-item\"><li><span><a href=\"#Hand-written-Solution\" data-toc-modified-id=\"Hand-written-Solution-1.1.1\"><span class=\"toc-item-num\">1.1.1&nbsp;&nbsp;</span>Hand-written Solution</a></span></li></ul></li><li><span><a href=\"#Bayes-Net\" data-toc-modified-id=\"Bayes-Net-1.2\"><span class=\"toc-item-num\">1.2&nbsp;&nbsp;</span>Bayes Net</a></span><ul class=\"toc-item\"><li><span><a href=\"#Elections-of-political-parties\" data-toc-modified-id=\"Elections-of-political-parties-1.2.1\"><span class=\"toc-item-num\">1.2.1&nbsp;&nbsp;</span>Elections of political parties</a></span><ul class=\"toc-item\"><li><span><a href=\"#Hand-written-solution\" data-toc-modified-id=\"Hand-written-solution-1.2.1.1\"><span class=\"toc-item-num\">1.2.1.1&nbsp;&nbsp;</span>Hand-written solution</a></span></li><li><span><a href=\"#Code-solution\" data-toc-modified-id=\"Code-solution-1.2.1.2\"><span class=\"toc-item-num\">1.2.1.2&nbsp;&nbsp;</span>Code solution</a></span></li></ul></li><li><span><a href=\"#Burglar-alarm\" data-toc-modified-id=\"Burglar-alarm-1.2.2\"><span class=\"toc-item-num\">1.2.2&nbsp;&nbsp;</span>Burglar alarm</a></span><ul class=\"toc-item\"><li><span><a href=\"#Code-solution\" data-toc-modified-id=\"Code-solution-1.2.2.1\"><span class=\"toc-item-num\">1.2.2.1&nbsp;&nbsp;</span>Code solution</a></span></li></ul></li></ul></li><li><span><a href=\"#Factor-Graphs-and-Sum-Product-algorithm\" data-toc-modified-id=\"Factor-Graphs-and-Sum-Product-algorithm-1.3\"><span class=\"toc-item-num\">1.3&nbsp;&nbsp;</span>Factor Graphs and Sum-Product algorithm</a></span><ul class=\"toc-item\"><li><span><a href=\"#Hand-written-solution\" data-toc-modified-id=\"Hand-written-solution-1.3.1\"><span class=\"toc-item-num\">1.3.1&nbsp;&nbsp;</span>Hand-written solution</a></span></li><li><span><a href=\"#Code-solution\" data-toc-modified-id=\"Code-solution-1.3.2\"><span class=\"toc-item-num\">1.3.2&nbsp;&nbsp;</span>Code solution</a></span></li></ul></li></ul></li></ul></div>"
   ]
  },
  {
   "cell_type": "markdown",
   "metadata": {
    "deletable": false,
    "editable": false,
    "nbgrader": {
     "cell_type": "markdown",
     "checksum": "6c7153dae590cbc0e68efdeb59545186",
     "grade": false,
     "grade_id": "cell-33b7d085de0d3922",
     "locked": true,
     "schema_version": 3,
     "solution": false,
     "task": false
    }
   },
   "source": [
    "## Bayes-Ball, D-Separation\n",
    "### Hand-written Solution\n",
    "\n",
    "Here we compute some global independence statements from some directed graphical models using the Bayes ball algorithm:\n",
    "\n",
    "* * *\n",
    "<img src=\"q1.png\" alt=\"bayes_net\" style=\"width:800px; float:center;\"/>\n",
    "\n",
    "* * *\n",
    "\n",
    "**Questions:**\n",
    "\n",
    "1. Consider the DAG in Figure 1a.<br> List all variables $X$ such that, $X \\perp A|B$, i.e., variables that are independent of $A$ given evidence on $B$.\n",
    "\n",
    "2. Consider the DAG in Figure 1b.<br> List all variables $X$ such that, $X \\perp A|J$, i.e., variables that are independent of $A$ given evidence on $J$.\n",
    "\n",
    "3. Consider the DAG in Figure 1c.<br> List all variables $X$ such that, $X \\perp A|D,G,E$, i.e., variables that are independent of $A$ given evidence on $D,G,E$."
   ]
  },
  {
   "cell_type": "markdown",
   "metadata": {
    "deletable": false,
    "editable": false,
    "nbgrader": {
     "cell_type": "markdown",
     "checksum": "90729bf9c586004cde07f90809790053",
     "grade": false,
     "grade_id": "cell-da59e40f10c16e3a",
     "locked": true,
     "schema_version": 3,
     "solution": false,
     "task": false
    }
   },
   "source": [
    "**Solution 1:**"
   ]
  },
  {
   "cell_type": "markdown",
   "metadata": {
    "deletable": false,
    "nbgrader": {
     "cell_type": "markdown",
     "checksum": "50b07fa1151fc94a7a1876b5bb682447",
     "grade": true,
     "grade_id": "cell-549aca8dab9ad89a",
     "locked": false,
     "points": 0,
     "schema_version": 3,
     "solution": true,
     "task": false
    }
   },
   "source": [
    "YOUR ANSWER HERE"
   ]
  },
  {
   "cell_type": "markdown",
   "metadata": {
    "deletable": false,
    "editable": false,
    "nbgrader": {
     "cell_type": "markdown",
     "checksum": "0aa57b344de09247c62c0003c0e7038f",
     "grade": false,
     "grade_id": "cell-9566f8b2f8271b61",
     "locked": true,
     "schema_version": 3,
     "solution": false,
     "task": false
    }
   },
   "source": [
    "**Solution 2:**"
   ]
  },
  {
   "cell_type": "markdown",
   "metadata": {
    "deletable": false,
    "nbgrader": {
     "cell_type": "markdown",
     "checksum": "6b4606bf200103c57b8a38772220cf7a",
     "grade": true,
     "grade_id": "cell-6f786e9d6de13e5c",
     "locked": false,
     "points": 0,
     "schema_version": 3,
     "solution": true,
     "task": false
    }
   },
   "source": [
    "YOUR ANSWER HERE"
   ]
  },
  {
   "cell_type": "markdown",
   "metadata": {
    "deletable": false,
    "editable": false,
    "nbgrader": {
     "cell_type": "markdown",
     "checksum": "acfb8db172e1d271650db82ec636584a",
     "grade": false,
     "grade_id": "cell-fc664c118cec028f",
     "locked": true,
     "schema_version": 3,
     "solution": false,
     "task": false
    }
   },
   "source": [
    "**Solution 3:**"
   ]
  },
  {
   "cell_type": "markdown",
   "metadata": {
    "deletable": false,
    "nbgrader": {
     "cell_type": "markdown",
     "checksum": "c6e1099083ea91ab19182156bbd63366",
     "grade": true,
     "grade_id": "cell-b3c2a5515f6eda2b",
     "locked": false,
     "points": 0,
     "schema_version": 3,
     "solution": true,
     "task": false
    }
   },
   "source": [
    "YOUR ANSWER HERE"
   ]
  },
  {
   "cell_type": "markdown",
   "metadata": {
    "deletable": false,
    "editable": false,
    "nbgrader": {
     "cell_type": "markdown",
     "checksum": "684680b97216d4b18742af244baa24e3",
     "grade": false,
     "grade_id": "cell-16c93fb6ddc20b78",
     "locked": true,
     "schema_version": 3,
     "solution": false,
     "task": false
    }
   },
   "source": [
    "## Bayes Net\n",
    "\n",
    "In this exercise you will find conditional probabilities for a bayesian network using pen and paper, later you would implement the Bayes network in Python using the pgmpy framework."
   ]
  },
  {
   "cell_type": "markdown",
   "metadata": {
    "deletable": false,
    "editable": false,
    "nbgrader": {
     "cell_type": "markdown",
     "checksum": "133b1d907c9b3ecbc3a1108e722f6dc5",
     "grade": false,
     "grade_id": "cell-e1de7c1c3ecd78ff",
     "locked": true,
     "schema_version": 3,
     "solution": false,
     "task": false
    }
   },
   "source": [
    "### Elections of political parties\n",
    "\n",
    "The elections are coming up and you are trying to reason about them using Bayes networks.\n",
    "\n",
    "You know that whenever an election is about to occur, parties make promises to spend money on education and health care.\n",
    "Different parties have different agendas, so they promise to spend differently on these items.\n",
    "Promised spending can be low, moderate or high.\n",
    "When an election is not imminent, parties tend to promise moderate or high spending in any category only with probability 0.1 and 0.01 respectively.\n",
    "The probability of an election being imminent is 0.5.\n",
    "\n",
    "There are three parties in this election:\n",
    "- Party A favors health care, and so their probability of promising lots of spending there is 0.8, and their probability of promising moderate spending is 0.15. In education, they are equally likely to promise spending in all three categories.\n",
    "- Party B favors education, so their probability of promising lots of spending there is 0.7, and they have a 0.15 chance of promising a moderate amount. They have equal probability of promising in all three categories for health care.\n",
    "- Party C likes to make lots of promises, so they have a 0.8 chance of promising high spending and 0.2 chance of promising low spending in both education and health care. The parties have roughly equal following. Denote by P the random variable defining the party, SE the random variable describing the promised spending in education, SH the random variable describing promised spending in health care and E the random variable denoting whether an election is imminent. (Note that other encodings of the facts in random variables are possible, we are choosing this one for uniformity reasons).\n",
    "\n",
    "* * * \n",
    "\n",
    "**Questions**: <br>\n",
    "1. Elections are coming up in two weeks. You pass by your local library and observe a candidate promising a high amount of spending on education and a moderate amount of spending on health care. What is the most likely party of this candidate?\n",
    "2. How does your answer change if you know that Party C is not fielding any candidates in your constituency?\n",
    "3. Given election is imminent and Party C is not fielding any candidates, you see a candidate is promising a high amount of spending on education and a moderate amount of spending on health care, what is the probability of candidate being in party B?"
   ]
  },
  {
   "cell_type": "markdown",
   "metadata": {
    "deletable": false,
    "editable": false,
    "nbgrader": {
     "cell_type": "markdown",
     "checksum": "95bec28708b527005b2ea51e074c0869",
     "grade": false,
     "grade_id": "cell-3afa9877e5587ad7",
     "locked": true,
     "points": 0,
     "schema_version": 3,
     "solution": false,
     "task": true
    }
   },
   "source": [
    "#### Hand-written solution"
   ]
  },
  {
   "cell_type": "markdown",
   "metadata": {
    "deletable": false,
    "editable": false,
    "nbgrader": {
     "cell_type": "markdown",
     "checksum": "a1aa5b6a2c0e9e29863d6040facaa208",
     "grade": false,
     "grade_id": "cell-487f877ebbeb26e0",
     "locked": true,
     "schema_version": 3,
     "solution": false,
     "task": false
    }
   },
   "source": [
    "**Question 1:**\n",
    "\n",
    "1. Elections are coming up in two weeks. You pass by your local library and observe a candidate promising a high amount of spending on education and a moderate amount of spending on health care. What is the most likely party of this candidate?"
   ]
  },
  {
   "cell_type": "markdown",
   "metadata": {
    "deletable": false,
    "nbgrader": {
     "cell_type": "markdown",
     "checksum": "f9e3fb49bcc9734dc1f5ec0be9365669",
     "grade": true,
     "grade_id": "cell-ae1791bf64fd5a43",
     "locked": false,
     "points": 0,
     "schema_version": 3,
     "solution": true,
     "task": false
    }
   },
   "source": [
    "YOUR ANSWER HERE"
   ]
  },
  {
   "cell_type": "markdown",
   "metadata": {
    "deletable": false,
    "editable": false,
    "nbgrader": {
     "cell_type": "markdown",
     "checksum": "2ae68a5bb02b1d6e6cee0a327dccefec",
     "grade": false,
     "grade_id": "cell-c7a8d5371d060e9b",
     "locked": true,
     "schema_version": 3,
     "solution": false,
     "task": false
    }
   },
   "source": [
    "**Question 2:**\n",
    "\n",
    "2. How does your answer change if you know that Party C is not fielding any candidates in your constituency?"
   ]
  },
  {
   "cell_type": "markdown",
   "metadata": {
    "deletable": false,
    "nbgrader": {
     "cell_type": "markdown",
     "checksum": "1310f1f0f8f2b1cffeb6f62383607dac",
     "grade": true,
     "grade_id": "cell-7fa4dc68a33bcfbd",
     "locked": false,
     "points": 0,
     "schema_version": 3,
     "solution": true,
     "task": false
    }
   },
   "source": [
    "YOUR ANSWER HERE"
   ]
  },
  {
   "cell_type": "markdown",
   "metadata": {
    "deletable": false,
    "editable": false,
    "nbgrader": {
     "cell_type": "markdown",
     "checksum": "b555243f3bd6976ba825163752221e8e",
     "grade": false,
     "grade_id": "cell-1028556e6a1e2a40",
     "locked": true,
     "schema_version": 3,
     "solution": false,
     "task": false
    }
   },
   "source": [
    "**Question 3:**\n",
    "\n",
    "3. Given election is imminent and Party C is not fielding any candidates, you see a candidate is promising a high amount of spending on education and a moderate amount of spending on health care, what is the probability of candidate being in party B?"
   ]
  },
  {
   "cell_type": "markdown",
   "metadata": {
    "deletable": false,
    "nbgrader": {
     "cell_type": "markdown",
     "checksum": "2f4cf5aeb326da06b9d468821b8ac686",
     "grade": true,
     "grade_id": "cell-c430dda6f5e8a5d5",
     "locked": false,
     "points": 0,
     "schema_version": 3,
     "solution": true,
     "task": false
    }
   },
   "source": [
    "YOUR ANSWER HERE"
   ]
  },
  {
   "cell_type": "markdown",
   "metadata": {
    "deletable": false,
    "editable": false,
    "nbgrader": {
     "cell_type": "markdown",
     "checksum": "8068bb7e6ebcb82e227eea3cfff1973a",
     "grade": false,
     "grade_id": "cell-f69e73def349f7cb",
     "locked": true,
     "schema_version": 3,
     "solution": false,
     "task": false
    }
   },
   "source": [
    "#### Code solution"
   ]
  },
  {
   "cell_type": "code",
   "execution_count": 1,
   "metadata": {
    "deletable": false,
    "editable": false,
    "nbgrader": {
     "cell_type": "code",
     "checksum": "1ebfa66b068a6696e5546cc2c9d08560",
     "grade": false,
     "grade_id": "cell-864f85c1786cb81c",
     "locked": true,
     "schema_version": 3,
     "solution": false,
     "task": false
    },
    "tags": []
   },
   "outputs": [
    {
     "name": "stderr",
     "output_type": "stream",
     "text": [
      "INFO:numexpr.utils:Note: NumExpr detected 12 cores but \"NUMEXPR_MAX_THREADS\" not set, so enforcing safe limit of 8.\n",
      "INFO:numexpr.utils:NumExpr defaulting to 8 threads.\n"
     ]
    }
   ],
   "source": [
    "import numpy as np\n",
    "\n",
    "from pgmpy.factors.discrete import DiscreteFactor\n",
    "from pgmpy.factors.discrete.CPD import TabularCPD\n",
    "from pgmpy.inference import BeliefPropagation\n",
    "from pgmpy.models import BayesianNetwork, MarkovNetwork"
   ]
  },
  {
   "cell_type": "code",
   "execution_count": 2,
   "metadata": {
    "deletable": false,
    "nbgrader": {
     "cell_type": "code",
     "checksum": "85521bcc99238673e926308288808d50",
     "grade": false,
     "grade_id": "cell-b80e8f029fea6957",
     "locked": false,
     "schema_version": 3,
     "solution": true,
     "task": false
    },
    "tags": []
   },
   "outputs": [],
   "source": [
    "# Create the Bayesian network\n",
    "model = BayesianNetwork()\n",
    "\n",
    "\"\"\"\n",
    "Build the model adding nodes.\n",
    "You can use `add_edges_from` function for this\n",
    "\"\"\"\n",
    "# YOUR CODE HERE\n",
    "edges = [\n",
    "    ('E', 'SE'),\n",
    "    ('E', 'SH'),\n",
    "    ('P', 'SE'),\n",
    "    ('P', 'SH')\n",
    "]\n",
    "\n",
    "model.add_edges_from(edges)\n",
    "\n",
    "# raise NotImplementedError()"
   ]
  },
  {
   "cell_type": "markdown",
   "metadata": {
    "deletable": false,
    "editable": false,
    "nbgrader": {
     "cell_type": "markdown",
     "checksum": "6712711e5bea3b27b711f7ea825297f5",
     "grade": false,
     "grade_id": "cell-df8c9b013db587a6",
     "locked": true,
     "schema_version": 3,
     "solution": false,
     "task": false
    }
   },
   "source": [
    "Each node of a Bayesian Network has a probability distribution associated with it, hence we need to define 4 distributions in this case (2 prior probabilities and 2 conditional probabilities).\n",
    "\n",
    "In pgmpy, conditional probability distributios (CPDs) can be defined using the TabularCPD class.\n",
    "\n",
    "For details on the parameters, please refer to the documentation of [CPD](https://pgmpy.org/_modules/pgmpy/factors/discrete/CPD.html)."
   ]
  },
  {
   "cell_type": "code",
   "execution_count": 3,
   "metadata": {
    "deletable": false,
    "nbgrader": {
     "cell_type": "code",
     "checksum": "13080dfee93cdd4e61d83997d993bf17",
     "grade": false,
     "grade_id": "cell-3f575332a5b6226f",
     "locked": false,
     "schema_version": 3,
     "solution": true,
     "task": false
    },
    "tags": []
   },
   "outputs": [],
   "source": [
    "\"\"\"\n",
    "Define probabilities E (for Election) and P (for Party) \n",
    "You can use `TabularCPD` function for this\n",
    "\"\"\"\n",
    "# YOUR CODE HERE\n",
    "# 아마도 prior확률\n",
    "E = TabularCPD(variable='E', variable_card=2, values=[[0.5], [0.5]])\n",
    "P = TabularCPD(variable='P', variable_card=3, values=[[1/3], [1/3], [1/3]])"
   ]
  },
  {
   "cell_type": "code",
   "execution_count": 4,
   "metadata": {
    "deletable": false,
    "nbgrader": {
     "cell_type": "code",
     "checksum": "aaf5ced3498d17598c782d0563346ea2",
     "grade": false,
     "grade_id": "cell-8547b2816c2aeaa9",
     "locked": false,
     "schema_version": 3,
     "solution": true,
     "task": false
    },
    "tags": []
   },
   "outputs": [],
   "source": [
    "\"\"\"\n",
    "Define probabilities SH (for Health funding) and SE (for Education funding) \n",
    "You can use `TabularCPD` function for this\n",
    "\"\"\"\n",
    "# YOUR CODE HERE\n",
    "# 조건부 확률\n",
    "# SE: low, moderate, high\n",
    "# SH: low, moderate, high\n",
    "SE = TabularCPD(variable='SE', variable_card=3, values=[\n",
    "    # low\n",
    "    [1/3, 0.15, 0.2, 0.89, 0.15, 0.2],\n",
    "    [1/3, 0.15, 0, 0.1, 0.15, 0],\n",
    "    [1/3, 0.7, 0.8, 0.01, 0.7, 0.8]\n",
    "],\n",
    "evidence=['E', 'P'],\n",
    "evidence_card=[2, 3])\n",
    "\n",
    "# print(cpd_se)\n",
    "\n",
    "SH = TabularCPD(variable='SH', variable_card=3, values=[\n",
    "    [0.05, 1/3, 0.2, 0.05, 0.89, 0.2],\n",
    "    [0.15, 1/3, 0, 0.15, 0.1, 0],\n",
    "    [0.8, 1/3, 0.8, 0.8, 0.01, 0.8],\n",
    "], \n",
    "evidence=['E','P'], evidence_card=[2, 3])\n",
    "# print(cpd_sh)\n",
    "# raise NotImplementedError()"
   ]
  },
  {
   "cell_type": "markdown",
   "metadata": {
    "deletable": false,
    "editable": false,
    "nbgrader": {
     "cell_type": "markdown",
     "checksum": "57387fb07a8e18a368369bb4d52f5e09",
     "grade": false,
     "grade_id": "cell-b1e3d0690bd38849",
     "locked": true,
     "schema_version": 3,
     "solution": false,
     "task": false
    }
   },
   "source": [
    "After defining the model parameters, we can now add them to the model using `add_cpds` method.\n",
    "The `check_model` method can also be used to verify if the CPDs are correctly defined for the model structure."
   ]
  },
  {
   "cell_type": "code",
   "execution_count": 5,
   "metadata": {
    "deletable": false,
    "editable": false,
    "nbgrader": {
     "cell_type": "code",
     "checksum": "86366a5b60042e5ed163b3e3c3870213",
     "grade": false,
     "grade_id": "cell-2490bf3eec98c4b4",
     "locked": true,
     "schema_version": 3,
     "solution": false,
     "task": false
    },
    "tags": []
   },
   "outputs": [
    {
     "data": {
      "text/plain": [
       "True"
      ]
     },
     "execution_count": 5,
     "metadata": {},
     "output_type": "execute_result"
    }
   ],
   "source": [
    "model.add_cpds(E, P, SH, SE)\n",
    "\n",
    "# Checking if the cpds are valid for the model.\n",
    "model.check_model()"
   ]
  },
  {
   "cell_type": "markdown",
   "metadata": {
    "deletable": false,
    "editable": false,
    "nbgrader": {
     "cell_type": "markdown",
     "checksum": "cf310b1a8e72b9d3efe9906dcf77f1c4",
     "grade": false,
     "grade_id": "cell-be6343c73427cb08",
     "locked": true,
     "schema_version": 3,
     "solution": false,
     "task": false
    }
   },
   "source": [
    "Make inferences based on the given evidences\n",
    "If election is imminent and a candidate is promising a high amount of spending on education and a moderate amount\n",
    "of spending on health care, predict the probability of the candidate's party."
   ]
  },
  {
   "cell_type": "code",
   "execution_count": 6,
   "metadata": {
    "deletable": false,
    "nbgrader": {
     "cell_type": "code",
     "checksum": "13190725ee166fa84d3e2bb788da3424",
     "grade": true,
     "grade_id": "cell-251190fe1f0a7a4b",
     "locked": false,
     "points": 0,
     "schema_version": 3,
     "solution": true,
     "task": false
    },
    "tags": []
   },
   "outputs": [
    {
     "name": "stdout",
     "output_type": "stream",
     "text": [
      "+------+----------+\n",
      "| P    |   phi(P) |\n",
      "+======+==========+\n",
      "| P(0) |   0.1451 |\n",
      "+------+----------+\n",
      "| P(1) |   0.8549 |\n",
      "+------+----------+\n",
      "| P(2) |   0.0000 |\n",
      "+------+----------+\n"
     ]
    }
   ],
   "source": [
    "# YOUR CODE HERE\n",
    "from pgmpy.inference import VariableElimination\n",
    "\n",
    "solver = VariableElimination(model)\n",
    "result = solver.query(variables=['P'], evidence={'SE':2, 'SH':1})\n",
    "print(result)\n",
    "# raise NotImplementedError()"
   ]
  },
  {
   "cell_type": "markdown",
   "metadata": {
    "deletable": false,
    "editable": false,
    "nbgrader": {
     "cell_type": "markdown",
     "checksum": "46294348b300271bdc75ef37231408b0",
     "grade": false,
     "grade_id": "cell-3ab340c282771b1f",
     "locked": true,
     "schema_version": 3,
     "solution": false,
     "task": false
    }
   },
   "source": [
    "**Question 3:**\n",
    "\n",
    "3. Given election is imminent and Party C is not fielding any candidates, you see a candidate is promising a high amount of spending on education and a moderate amount of spending on health care, what is the probability of candidate being in party B?"
   ]
  },
  {
   "cell_type": "markdown",
   "metadata": {
    "deletable": false,
    "editable": false,
    "nbgrader": {
     "cell_type": "markdown",
     "checksum": "47f2be87d21497c7fbf371b2cd5e2bec",
     "grade": false,
     "grade_id": "cell-9ddf244264e4b966",
     "locked": true,
     "schema_version": 3,
     "solution": false,
     "task": false
    }
   },
   "source": [
    "Redefine the prior probabilities for Election and Party candidate."
   ]
  },
  {
   "cell_type": "code",
   "execution_count": 7,
   "metadata": {
    "deletable": false,
    "nbgrader": {
     "cell_type": "code",
     "checksum": "baf65d081233999be87aca961e2cb270",
     "grade": false,
     "grade_id": "cell-4d8feafe98d773d4",
     "locked": false,
     "schema_version": 3,
     "solution": true,
     "task": false
    },
    "tags": []
   },
   "outputs": [],
   "source": [
    "# Create the Bayesian network\n",
    "model = BayesianNetwork()\n",
    "\n",
    "\"\"\"\n",
    "Build the model adding nodes.\n",
    "You can use `add_edges_from` function for this\n",
    "\"\"\"\n",
    "# YOUR CODE HERE\n",
    "edges = [\n",
    "    ('E', 'SE'),\n",
    "    ('E', 'SH'),\n",
    "    ('P', 'SE'),\n",
    "    ('P', 'SH')\n",
    "]\n",
    "\n",
    "model.add_edges_from(edges)\n",
    "# raise NotImplementedError()"
   ]
  },
  {
   "cell_type": "code",
   "execution_count": 8,
   "metadata": {
    "deletable": false,
    "nbgrader": {
     "cell_type": "code",
     "checksum": "566e0011127d9554ea7d85f4d866431c",
     "grade": false,
     "grade_id": "cell-e3993387db941676",
     "locked": false,
     "schema_version": 3,
     "solution": true,
     "task": false
    },
    "tags": []
   },
   "outputs": [],
   "source": [
    "\"\"\"\n",
    "Define probabilities E (for Election) and P (for Party) \n",
    "You can use `TabularCPD` function for this\n",
    "\"\"\"\n",
    "# YOUR CODE HERE\n",
    "E = TabularCPD(variable='E', variable_card=2, values=[[0.5], [0.5]])\n",
    "P = TabularCPD(variable='P', variable_card=2, values=[[0.5], [0.5]])\n",
    "# raise NotImplementedError()"
   ]
  },
  {
   "cell_type": "markdown",
   "metadata": {
    "deletable": false,
    "editable": false,
    "nbgrader": {
     "cell_type": "markdown",
     "checksum": "f2fe67357aaf713f970e85eb7a487a4d",
     "grade": false,
     "grade_id": "cell-73c3684c6fe03252",
     "locked": true,
     "schema_version": 3,
     "solution": false,
     "task": false
    }
   },
   "source": [
    "Redefine the conditional probabilities for promised health and educational spending."
   ]
  },
  {
   "cell_type": "code",
   "execution_count": 9,
   "metadata": {
    "deletable": false,
    "nbgrader": {
     "cell_type": "code",
     "checksum": "6cb14b45770a08cbfe4a83916d1ca097",
     "grade": false,
     "grade_id": "cell-01770d8f1e5c5a99",
     "locked": false,
     "schema_version": 3,
     "solution": true,
     "task": false
    },
    "tags": []
   },
   "outputs": [],
   "source": [
    "\"\"\"\n",
    "Define probabilities SH (for Health funding) and SE (for Education funding) \n",
    "You can use `TabularCPD` function for this\n",
    "\"\"\"\n",
    "# YOUR CODE HERE\n",
    "SE = TabularCPD(variable='SE', variable_card=3, values=[\n",
    "    # low\n",
    "    [1/3, 0.15, 0.89, 0.15],\n",
    "    [1/3, 0.15, 0.1, 0.15],\n",
    "    [1/3, 0.7, 0.01, 0.7]\n",
    "],\n",
    "evidence=['E', 'P'],\n",
    "evidence_card=[2, 2])\n",
    "\n",
    "SH = TabularCPD(variable='SH', variable_card=3, values=[\n",
    "    [0.05, 1/3, 0.05, 0.89],\n",
    "    [0.15, 1/3, 0.15, 0.1],\n",
    "    [0.8, 1/3, 0.8, 0.01],\n",
    "], \n",
    "evidence=['E','P'], evidence_card=[2, 2])\n",
    "\n",
    "# raise NotImplementedError()"
   ]
  },
  {
   "cell_type": "markdown",
   "metadata": {
    "deletable": false,
    "editable": false,
    "nbgrader": {
     "cell_type": "markdown",
     "checksum": "10fa35ca5c0103e05f1f4c9d34452c00",
     "grade": false,
     "grade_id": "cell-55b699a1c1470012",
     "locked": true,
     "schema_version": 3,
     "solution": false,
     "task": false
    }
   },
   "source": [
    "After defining the model parameters, we can now add them to the model using `add_cpds` method.\n",
    "The `check_model` method can also be used to verify if the CPDs are correctly defined for the model structure."
   ]
  },
  {
   "cell_type": "code",
   "execution_count": 10,
   "metadata": {
    "deletable": false,
    "editable": false,
    "nbgrader": {
     "cell_type": "code",
     "checksum": "9fb3e2a9fedab1f80abf436db9f1fd60",
     "grade": false,
     "grade_id": "cell-a609c43fbfbd2b9f",
     "locked": true,
     "schema_version": 3,
     "solution": false,
     "task": false
    },
    "tags": []
   },
   "outputs": [
    {
     "data": {
      "text/plain": [
       "True"
      ]
     },
     "execution_count": 10,
     "metadata": {},
     "output_type": "execute_result"
    }
   ],
   "source": [
    "model.add_cpds(E, P, SH, SE)\n",
    "\n",
    "# Checking if the cpds are valid for the model.\n",
    "model.check_model()"
   ]
  },
  {
   "cell_type": "code",
   "execution_count": 11,
   "metadata": {
    "deletable": false,
    "editable": false,
    "nbgrader": {
     "cell_type": "code",
     "checksum": "3da13c1f1c70920071c0adf727fc0985",
     "grade": false,
     "grade_id": "cell-e90c7a4a285348df",
     "locked": true,
     "schema_version": 3,
     "solution": false,
     "task": false
    },
    "tags": []
   },
   "outputs": [],
   "source": [
    "# Create inference engine\n",
    "belief_propagation = BeliefPropagation(model)"
   ]
  },
  {
   "cell_type": "code",
   "execution_count": 12,
   "metadata": {
    "deletable": false,
    "nbgrader": {
     "cell_type": "code",
     "checksum": "ef1e552a1fd948d502efba4551e99e63",
     "grade": true,
     "grade_id": "cell-ab3b02b7003caf1a",
     "locked": false,
     "points": 0,
     "schema_version": 3,
     "solution": true,
     "task": false
    },
    "tags": []
   },
   "outputs": [
    {
     "name": "stdout",
     "output_type": "stream",
     "text": [
      "+------+----------+\n",
      "| P    |   phi(P) |\n",
      "+======+==========+\n",
      "| P(0) |   0.0210 |\n",
      "+------+----------+\n",
      "| P(1) |   0.9790 |\n",
      "+------+----------+\n"
     ]
    }
   ],
   "source": [
    "# YOUR CODE HERE\n",
    "res = belief_propagation.query(variables=[\"P\"], evidence = {\"SE\":2, \"SH\":1, \"E\":1})\n",
    "print(res)\n",
    "\n",
    "# raise NotImplementedError()"
   ]
  },
  {
   "cell_type": "markdown",
   "metadata": {
    "deletable": false,
    "editable": false,
    "nbgrader": {
     "cell_type": "markdown",
     "checksum": "fdd5ea1e1c5325f11981fea77cfd370d",
     "grade": false,
     "grade_id": "cell-f6ccdfe63eed9523",
     "locked": true,
     "schema_version": 3,
     "solution": false,
     "task": false
    }
   },
   "source": [
    "### Burglar alarm\n",
    "#### Code solution\n",
    "\n",
    "Let's solve the next example, which is a bit more complex and where it would be useful to use programming to infer probabillites.\n",
    "\n",
    "You should build a Bayes net for the burglar alarm example (Artificial Intelligence: A Modern Approach, S. Russel  and P. Novig) shown in Figure  2.\n",
    "\n",
    "<img src=\"q3.png\" alt=\"Burglar Alarm Net\" style=\"width:400px; float:center;\"/>\n",
    "\n",
    "***\n",
    "**Questions:**\n",
    "1. If John calls, predict the probability of burglary.  \n",
    "2. If a burglary happened, predict the probability of John calling.  \n",
    "3. If John and Mary called and there was no earthquake, predict the probability of burglary."
   ]
  },
  {
   "cell_type": "code",
   "execution_count": 13,
   "metadata": {
    "deletable": false,
    "nbgrader": {
     "cell_type": "code",
     "checksum": "602354cf3aae7d49939c5350216a9d18",
     "grade": false,
     "grade_id": "cell-45fc31d7cdd47b85",
     "locked": false,
     "schema_version": 3,
     "solution": true,
     "task": false
    },
    "pycharm": {
     "name": "#%%\n"
    },
    "tags": []
   },
   "outputs": [],
   "source": [
    "# Create the Bayesian network\n",
    "model = BayesianNetwork()\n",
    "\"\"\"\n",
    "Build the model adding nodes.\n",
    "You can use `add_edges_from` function for this\n",
    "\"\"\"\n",
    "# YOUR CODE HERE\n",
    "edges = [\n",
    "('B', 'A'),\n",
    "('E', 'A'),\n",
    "('A', 'J'),\n",
    "('A', 'M')]\n",
    "\n",
    "model.add_edges_from(edges)\n",
    "\n",
    "# raise NotImplementedError()"
   ]
  },
  {
   "cell_type": "markdown",
   "metadata": {
    "deletable": false,
    "editable": false,
    "nbgrader": {
     "cell_type": "markdown",
     "checksum": "476ec01c1949e4ab494ee098aa597978",
     "grade": false,
     "grade_id": "cell-ddb440e59a7c8cc1",
     "locked": true,
     "schema_version": 3,
     "solution": false,
     "task": false
    }
   },
   "source": [
    "Define the prior probabilities for Burglary and Earthquake."
   ]
  },
  {
   "cell_type": "code",
   "execution_count": 14,
   "metadata": {
    "deletable": false,
    "nbgrader": {
     "cell_type": "code",
     "checksum": "86b20000465ea499ad4599ceda9f99d7",
     "grade": false,
     "grade_id": "cell-ea3d0251e8c464d6",
     "locked": false,
     "schema_version": 3,
     "solution": true,
     "task": false
    },
    "pycharm": {
     "name": "#%%\n"
    },
    "tags": []
   },
   "outputs": [],
   "source": [
    "\"\"\"\n",
    "Define probabilities B (for Burglary) and E (for Earthquake) \n",
    "You can use `TabularCPD` function for this\n",
    "\"\"\"\n",
    "# YOUR CODE HERE\n",
    "B = TabularCPD(variable = \"B\", variable_card = 2, values = [[0.999], [0.001]])\n",
    "E = TabularCPD(variable = \"E\", variable_card = 2, values = [[0.998], [0.002]])\n",
    "\n",
    "# raise NotImplementedError()"
   ]
  },
  {
   "cell_type": "markdown",
   "metadata": {
    "deletable": false,
    "editable": false,
    "nbgrader": {
     "cell_type": "markdown",
     "checksum": "770630e45e405338f73c16c9e149b70f",
     "grade": false,
     "grade_id": "cell-5efbb4a82bd76e25",
     "locked": true,
     "schema_version": 3,
     "solution": false,
     "task": false
    }
   },
   "source": [
    "Define the conditional probabilities for Alarm, John calls, and Mary calls."
   ]
  },
  {
   "cell_type": "code",
   "execution_count": 15,
   "metadata": {
    "deletable": false,
    "nbgrader": {
     "cell_type": "code",
     "checksum": "2f39b65d128f9e72ad670d26efce5748",
     "grade": false,
     "grade_id": "cell-7aa9d4077efc6cd2",
     "locked": false,
     "schema_version": 3,
     "solution": true,
     "task": false
    },
    "pycharm": {
     "name": "#%%\n"
    },
    "tags": []
   },
   "outputs": [],
   "source": [
    "\"\"\"\n",
    "Define probabilities A (for Alarm), J (for John Calls), and M (for Mary Calls) \n",
    "You can use `TabularCPD` function for this\n",
    "\"\"\"\n",
    "# YOUR CODE HERE\n",
    "\n",
    "A = TabularCPD(variable = \"A\", variable_card = 2, values = [\n",
    "    [0.999, 0.71, 0.06, 0.05],\n",
    "    [0.001, 0.29, 0.94, 0.95]\n",
    "], evidence=[\"B\", \"E\"], evidence_card = [2, 2])\n",
    "\n",
    "J = TabularCPD(variable = \"J\", variable_card = 2, values = [\n",
    "    [0.95, 0.10],\n",
    "    [0.05, 0.90]\n",
    "], evidence = ['A'], evidence_card = [2])\n",
    "\n",
    "M = TabularCPD(variable = \"M\", variable_card = 2, values = [\n",
    "    [0.01, 0.70],\n",
    "    [0.99, 0.30]\n",
    "], evidence = ['A'], evidence_card = [2])\n",
    "\n",
    "# raise NotImplementedError()"
   ]
  },
  {
   "cell_type": "markdown",
   "metadata": {},
   "source": [
    "After defining the model parameters, we can now add them to the model using `add_cpds` method.\n",
    "The `check_model` method can also be used to verify if the CPDs are correctly defined for the model structure."
   ]
  },
  {
   "cell_type": "code",
   "execution_count": 16,
   "metadata": {
    "deletable": false,
    "editable": false,
    "nbgrader": {
     "cell_type": "code",
     "checksum": "4cada088534a74beebc92a85455d2c3d",
     "grade": false,
     "grade_id": "cell-82633e9779b43768",
     "locked": true,
     "schema_version": 3,
     "solution": false,
     "task": false
    },
    "pycharm": {
     "name": "#%%\n"
    },
    "tags": []
   },
   "outputs": [
    {
     "data": {
      "text/plain": [
       "True"
      ]
     },
     "execution_count": 16,
     "metadata": {},
     "output_type": "execute_result"
    }
   ],
   "source": [
    "model.add_cpds(B, E, A, J, M)\n",
    "\n",
    "# Checking if the cpds are valid for the model.\n",
    "model.check_model()"
   ]
  },
  {
   "cell_type": "code",
   "execution_count": 17,
   "metadata": {
    "deletable": false,
    "editable": false,
    "nbgrader": {
     "cell_type": "code",
     "checksum": "39d39215bc3b5c054ae814cb3cb31da3",
     "grade": false,
     "grade_id": "cell-1c59de1f81719b4c",
     "locked": true,
     "schema_version": 3,
     "solution": false,
     "task": false
    },
    "tags": []
   },
   "outputs": [],
   "source": [
    "# Create inference engine\n",
    "belief_propagation = BeliefPropagation(model)"
   ]
  },
  {
   "cell_type": "markdown",
   "metadata": {
    "deletable": false,
    "editable": false,
    "nbgrader": {
     "cell_type": "markdown",
     "checksum": "96990ae9134befcd2a10f62d896ecebb",
     "grade": false,
     "grade_id": "cell-791045b677b51dfb",
     "locked": true,
     "schema_version": 3,
     "solution": false,
     "task": false
    }
   },
   "source": [
    "**Question 1**\n",
    "\n",
    "If John calls, predict the probability of burglary."
   ]
  },
  {
   "cell_type": "code",
   "execution_count": 18,
   "metadata": {
    "deletable": false,
    "nbgrader": {
     "cell_type": "code",
     "checksum": "cf56acf1ab273defe4fdc0f54d4705ac",
     "grade": true,
     "grade_id": "cell-fe56715052c45f1a",
     "locked": false,
     "points": 0,
     "schema_version": 3,
     "solution": true,
     "task": false
    },
    "pycharm": {
     "name": "#%%\n"
    },
    "tags": []
   },
   "outputs": [
    {
     "name": "stdout",
     "output_type": "stream",
     "text": [
      "+------+----------+\n",
      "| B    |   phi(B) |\n",
      "+======+==========+\n",
      "| B(0) |   0.9837 |\n",
      "+------+----------+\n",
      "| B(1) |   0.0163 |\n",
      "+------+----------+\n"
     ]
    }
   ],
   "source": [
    "# YOUR CODE HERE\n",
    "res = belief_propagation.query(variables=[\"B\"], evidence = {\"J\":1})\n",
    "print(res)\n",
    "# raise NotImplementedError()"
   ]
  },
  {
   "cell_type": "markdown",
   "metadata": {
    "deletable": false,
    "editable": false,
    "nbgrader": {
     "cell_type": "markdown",
     "checksum": "5af42937557df986b646663a93878e11",
     "grade": false,
     "grade_id": "cell-f1e86d20814173ef",
     "locked": true,
     "schema_version": 3,
     "solution": false,
     "task": false
    }
   },
   "source": [
    "**Question 2**\n",
    "\n",
    "If a burglary happened, predict the probability of John calling."
   ]
  },
  {
   "cell_type": "code",
   "execution_count": 19,
   "metadata": {
    "deletable": false,
    "nbgrader": {
     "cell_type": "code",
     "checksum": "d3437c8614a83ef23f6621ef4afcf2ce",
     "grade": true,
     "grade_id": "cell-84db870fdfa08f0b",
     "locked": false,
     "points": 0,
     "schema_version": 3,
     "solution": true,
     "task": false
    },
    "pycharm": {
     "name": "#%%\n"
    },
    "tags": []
   },
   "outputs": [
    {
     "name": "stdout",
     "output_type": "stream",
     "text": [
      "+------+----------+\n",
      "| J    |   phi(J) |\n",
      "+======+==========+\n",
      "| J(0) |   0.1510 |\n",
      "+------+----------+\n",
      "| J(1) |   0.8490 |\n",
      "+------+----------+\n"
     ]
    }
   ],
   "source": [
    "# YOUR CODE HERE\n",
    "\n",
    "res = belief_propagation.query(variables=[\"J\"], evidence = {\"B\":1})\n",
    "print(res)\n",
    "\n",
    "# raise NotImplementedError()"
   ]
  },
  {
   "cell_type": "markdown",
   "metadata": {
    "deletable": false,
    "editable": false,
    "nbgrader": {
     "cell_type": "markdown",
     "checksum": "879ab776e015f7e2265a46cad7781fbb",
     "grade": false,
     "grade_id": "cell-d49b33f0c917ac4f",
     "locked": true,
     "schema_version": 3,
     "solution": false,
     "task": false
    }
   },
   "source": [
    "**Question 3**\n",
    "\n",
    "If John and Mary called and there was no Earthquake, predict the probability of burglary."
   ]
  },
  {
   "cell_type": "code",
   "execution_count": 20,
   "metadata": {
    "deletable": false,
    "nbgrader": {
     "cell_type": "code",
     "checksum": "598197d916608ddde0ee6f43d17491ff",
     "grade": true,
     "grade_id": "cell-89d16bac8b06eb91",
     "locked": false,
     "points": 0,
     "schema_version": 3,
     "solution": true,
     "task": false
    },
    "pycharm": {
     "name": "#%%\n"
    },
    "tags": []
   },
   "outputs": [
    {
     "name": "stdout",
     "output_type": "stream",
     "text": [
      "+------+----------+\n",
      "| B    |   phi(B) |\n",
      "+======+==========+\n",
      "| B(0) |   0.9949 |\n",
      "+------+----------+\n",
      "| B(1) |   0.0051 |\n",
      "+------+----------+\n"
     ]
    }
   ],
   "source": [
    "# YOUR CODE HERE\n",
    "\n",
    "res = belief_propagation.query(variables=[\"B\"], evidence = {\"J\":1, \"M\":1, \"E\":0})\n",
    "print(res)\n",
    "\n",
    "\n",
    "# raise NotImplementedError()"
   ]
  },
  {
   "cell_type": "markdown",
   "metadata": {
    "deletable": false,
    "editable": false,
    "nbgrader": {
     "cell_type": "markdown",
     "checksum": "224705267fffc166d5a2d9b069762d49",
     "grade": false,
     "grade_id": "cell-45cfa0788f40de68",
     "locked": true,
     "schema_version": 3,
     "solution": false,
     "task": false
    }
   },
   "source": [
    "## Factor Graphs and Sum-Product algorithm\n",
    "\n",
    "Consider the following Bayes Net (Figure 3) with random variables {W, S, D, T, J}:\n",
    "\n",
    "<img src=\"q4.png\" alt=\"Drawing\" style=\"width:500px; float:center;\"/>\n",
    "\n",
    "\n",
    "As you know from the lecture, an evidence can have an impact on states of all random variables.\n",
    "E.g. the evidence (Jerry has an accident) increases the probability for slick roads and slick roads increases the probability for winter and Tom having an accident.\n",
    "There exist several algorithms for computing the exact inference in Bayesian belief networks.\n",
    "\n",
    "\n",
    "***\n",
    "\n",
    "1. Convert the graphical model into a factor graph. Perform the inference using the Sum-Product algorithm to compute all marginals symbolically.\n",
    "    1. What is the marginal distribution of the road to be slick? If Jerry has an accident.\n",
    "\n",
    "2. Validate that your solution is correct using Sum-Product algorithm from the [pgmpy](https://pgmpy.org/) package.\n",
    "    1. What is the marginal distribution of the road to be slick? Without any evidence.\n",
    "    2. What is the marginal distribution of the road to be slick? If Jerry has an accident."
   ]
  },
  {
   "cell_type": "markdown",
   "metadata": {
    "deletable": false,
    "editable": false,
    "nbgrader": {
     "cell_type": "markdown",
     "checksum": "765d3689e2c0fb85d4bd9eb37cf7cb18",
     "grade": false,
     "grade_id": "cell-256ac6dec7a7dab5",
     "locked": true,
     "schema_version": 3,
     "solution": false,
     "task": false
    }
   },
   "source": [
    "### Hand-written solution"
   ]
  },
  {
   "cell_type": "markdown",
   "metadata": {
    "deletable": false,
    "editable": false,
    "nbgrader": {
     "cell_type": "markdown",
     "checksum": "0854be4c8c18a92cfd28c0c54d654127",
     "grade": false,
     "grade_id": "cell-1ecea2495a17cf22",
     "locked": true,
     "schema_version": 3,
     "solution": false,
     "task": false
    }
   },
   "source": [
    "**Question 1A**\n",
    "\n",
    "1. Convert the graphical model into a factor graph. Perform the inference using the Sum-Product algorithm to compute all marginals symbolically.\n",
    "    1. If Jerry has an accident, what is the marginal distribution of the road to be slick?"
   ]
  },
  {
   "cell_type": "markdown",
   "metadata": {
    "deletable": false,
    "nbgrader": {
     "cell_type": "markdown",
     "checksum": "19fd3fc257c9ba9cf2edec410026b5c7",
     "grade": true,
     "grade_id": "cell-725c9b62626d6b26",
     "locked": false,
     "points": 0,
     "schema_version": 3,
     "solution": true,
     "task": false
    }
   },
   "source": [
    "YOUR ANSWER HERE"
   ]
  },
  {
   "cell_type": "markdown",
   "metadata": {
    "deletable": false,
    "editable": false,
    "nbgrader": {
     "cell_type": "markdown",
     "checksum": "04d1c5323394715d721870d7c9fc04fa",
     "grade": false,
     "grade_id": "cell-b403e1772884fe48",
     "locked": true,
     "schema_version": 3,
     "solution": false,
     "task": false
    }
   },
   "source": [
    "### Code solution"
   ]
  },
  {
   "cell_type": "markdown",
   "metadata": {
    "deletable": false,
    "editable": false,
    "nbgrader": {
     "cell_type": "markdown",
     "checksum": "3df069e3da9ec3e25990eed3502abb75",
     "grade": false,
     "grade_id": "cell-538525f3f5072e6f",
     "locked": true,
     "schema_version": 3,
     "solution": false,
     "task": false
    }
   },
   "source": [
    "**Question 2AB**\n",
    "\n",
    "2. Validate that your solution is correct using Sum-Product algorithm from the [pgmpy](https://pgmpy.org/) package.\n",
    "    1. What is the marginal distribution of the road to be slick? Without any evidence.\n",
    "    2. What is the marginal distribution of the road to be slick? If Jerry has an accident."
   ]
  },
  {
   "cell_type": "markdown",
   "metadata": {
    "deletable": false,
    "editable": false,
    "nbgrader": {
     "cell_type": "markdown",
     "checksum": "b66d837947ce9ab1faa5585ae3289afc",
     "grade": false,
     "grade_id": "cell-f62d7cb24967b6e5",
     "locked": true,
     "schema_version": 3,
     "solution": false,
     "task": false
    }
   },
   "source": [
    "Initialize an empty markov network."
   ]
  },
  {
   "cell_type": "code",
   "execution_count": 21,
   "metadata": {
    "deletable": false,
    "editable": false,
    "nbgrader": {
     "cell_type": "code",
     "checksum": "cb43b9954f384febdf1e335590dd14bc",
     "grade": false,
     "grade_id": "cell-afbdc15b250ce7da",
     "locked": true,
     "schema_version": 3,
     "solution": false,
     "task": false
    },
    "tags": []
   },
   "outputs": [],
   "source": [
    "model = MarkovNetwork()"
   ]
  },
  {
   "cell_type": "markdown",
   "metadata": {
    "deletable": false,
    "editable": false,
    "nbgrader": {
     "cell_type": "markdown",
     "checksum": "8bf8408e3ca4a0fbd5ef73f302fb7c24",
     "grade": false,
     "grade_id": "cell-195319461cb69f59",
     "locked": true,
     "schema_version": 3,
     "solution": false,
     "task": false
    }
   },
   "source": [
    "Build the graph by adding nodes and edges. `add_edges_from` function creates the necessary nodes and connects them.  \n",
    "\n",
    "Here the nodes, W => Winter, S => Slick road, D => Drunk, T => Tom, and J => Jerry"
   ]
  },
  {
   "cell_type": "code",
   "execution_count": 22,
   "metadata": {
    "deletable": false,
    "nbgrader": {
     "cell_type": "code",
     "checksum": "b71bbbacf193fd87777d3a1f7b79aea1",
     "grade": false,
     "grade_id": "cell-d418ddc13b5ff29d",
     "locked": false,
     "schema_version": 3,
     "solution": true,
     "task": false
    },
    "tags": []
   },
   "outputs": [],
   "source": [
    "\"\"\"\n",
    "Build the model adding nodes.\n",
    "You can use `add_edges_from` function for this\n",
    "\"\"\"\n",
    "# YOUR CODE HERE\n",
    "model.add_nodes_from([\"W\", \"D\", \"S\", \"J\", \"T\"])\n",
    "edges = [\n",
    "    (\"W\", \"S\"),\n",
    "    (\"S\", \"T\"),\n",
    "    (\"S\", \"J\"),\n",
    "    (\"D\", \"T\"),\n",
    "    (\"D\",\"S\")\n",
    "]\n",
    "\n",
    "model.add_edges_from(edges)\n",
    "# raise NotImplementedError()"
   ]
  },
  {
   "cell_type": "markdown",
   "metadata": {
    "deletable": false,
    "editable": false,
    "nbgrader": {
     "cell_type": "markdown",
     "checksum": "0381e1b40570069fc4cedcba8d264478",
     "grade": false,
     "grade_id": "cell-0a839b41451e70b8",
     "locked": true,
     "schema_version": 3,
     "solution": false,
     "task": false
    }
   },
   "source": [
    "Since the directed graph is to be converted to an undirected graph, we need to perform *moralization*."
   ]
  },
  {
   "cell_type": "code",
   "execution_count": 23,
   "metadata": {
    "deletable": false,
    "nbgrader": {
     "cell_type": "code",
     "checksum": "ad3c2a8548191e0c1700f00453c7522c",
     "grade": false,
     "grade_id": "cell-dd6d495c66e73336",
     "locked": false,
     "schema_version": 3,
     "solution": true,
     "task": false
    },
    "tags": []
   },
   "outputs": [],
   "source": [
    "\"\"\"\n",
    "Add edges between the parents of the required nodes\n",
    "Connect nodes that should be moralized\n",
    "\"\"\"\n",
    "# YOUR CODE HERE\n",
    "model = model.triangulate()\n",
    "# raise NotImplementedError()"
   ]
  },
  {
   "cell_type": "markdown",
   "metadata": {
    "deletable": false,
    "editable": false,
    "nbgrader": {
     "cell_type": "markdown",
     "checksum": "c050169f5ba92454e6320ddbd9955d08",
     "grade": false,
     "grade_id": "cell-a94de51341528e3b",
     "locked": true,
     "schema_version": 3,
     "solution": false,
     "task": false
    }
   },
   "source": [
    "Define the prior probabilities for Winter and Drunk. Take a look at [DiscreteFactor](https://pgmpy.org/_modules/pgmpy/factors/discrete/DiscreteFactor.html#DiscreteFactor) documentation for defining probabilities."
   ]
  },
  {
   "cell_type": "code",
   "execution_count": 24,
   "metadata": {
    "deletable": false,
    "nbgrader": {
     "cell_type": "code",
     "checksum": "d0089d9f72dbeb05402c57955604f55a",
     "grade": false,
     "grade_id": "cell-bbec35c7b99f35e8",
     "locked": false,
     "schema_version": 3,
     "solution": true,
     "task": false
    },
    "tags": []
   },
   "outputs": [],
   "source": [
    "\"\"\"\n",
    "Define probabilities W (for Winter) and D (for Drunk). \n",
    "You can use numpy arrays for the definition.\n",
    "\"\"\"\n",
    "# Note: W(0) denotes P(W=True) and W(1) denotes P(W=False)\n",
    "# YOUR CODE HERE\n",
    "W = np.array([0.5, 0.5])\n",
    "D = np.array([0.6, 0.4])\n",
    "\n",
    "# raise NotImplementedError"
   ]
  },
  {
   "cell_type": "markdown",
   "metadata": {
    "deletable": false,
    "editable": false,
    "nbgrader": {
     "cell_type": "markdown",
     "checksum": "fe88da421e33e6945f1ceca9ff257791",
     "grade": false,
     "grade_id": "cell-ab233cb214562a4c",
     "locked": true,
     "schema_version": 3,
     "solution": false,
     "task": false
    }
   },
   "source": [
    "Define the conditional probabilities for slick road, Tom, and Jerry. Take a look at [DiscreteFactor](https://pgmpy.org/_modules/pgmpy/factors/discrete/DiscreteFactor.html#DiscreteFactor) documentation for defining probabilities."
   ]
  },
  {
   "cell_type": "code",
   "execution_count": 25,
   "metadata": {
    "deletable": false,
    "nbgrader": {
     "cell_type": "code",
     "checksum": "9dbe47b63e89ea13cb79cc79778c6db0",
     "grade": false,
     "grade_id": "cell-3746edad3fccab57",
     "locked": false,
     "schema_version": 3,
     "solution": true,
     "task": false
    },
    "tags": []
   },
   "outputs": [],
   "source": [
    "\"\"\"\n",
    "Define conditional probabilities \n",
    "WS (for Slick road given Winter), \n",
    "SJ (for Jerry having an accident given slick road), \n",
    "DST (for Tom having an accident given he is drunk and road is slick).\n",
    "You can use numpy arrays for the definition\n",
    "\"\"\"\n",
    "# Note: WS has entries [P(S=True|W=True), P(S=False|W=True), P(S=True|W=False), P(S=False|W=False)]\n",
    "# Note: DST has entries [P(T=True|D=True,S=True), P(T=False|D=True,S=True), P(T=True|D=True,S=False), ...\n",
    "# YOUR CODE HERE\n",
    "\n",
    "WS = np.array([0.7, 0.3, 0.1, 0.9])\n",
    "SJ = np.array([0.5, 0.5, 0.1, 0.9])\n",
    "DST = np.array([0.9, 0.1, 0.5, 0.5, 0.5, 0.5, 0.1, 0.9])\n",
    "\n",
    "\n",
    "# raise NotImplementedError()"
   ]
  },
  {
   "cell_type": "markdown",
   "metadata": {
    "deletable": false,
    "editable": false,
    "nbgrader": {
     "cell_type": "markdown",
     "checksum": "534481351da19239155458be60d230c3",
     "grade": false,
     "grade_id": "cell-3e25ac0e4f6938e5",
     "locked": true,
     "schema_version": 3,
     "solution": false,
     "task": false
    }
   },
   "source": [
    "Define the factor nodes in the graph and add the factor potentials. You can use the `DiscreteFactor` method from pgmpy for this."
   ]
  },
  {
   "cell_type": "code",
   "execution_count": 26,
   "metadata": {
    "deletable": false,
    "nbgrader": {
     "cell_type": "code",
     "checksum": "3144bcbe477a0a5b947a032dedf36b98",
     "grade": false,
     "grade_id": "cell-79c73f9b6154b181",
     "locked": false,
     "schema_version": 3,
     "solution": true,
     "task": false
    },
    "tags": []
   },
   "outputs": [],
   "source": [
    "\"\"\"\n",
    "Define the factors you considered\n",
    "You can use the `DiscreteFactor` function and the defined probabilities for this\n",
    "\"\"\"\n",
    "# fatorA =\n",
    "# YOUR CODE HERE\n",
    "# model.add_nodes_from([\"W\", \"D\", \"S\", \"J\", \"T\"])\n",
    "factorA = DiscreteFactor([\"W\"], [2], W)\n",
    "factorB = DiscreteFactor([\"D\"], [2], D)\n",
    "factorC = DiscreteFactor([\"W\", \"S\"], [2, 2], WS.reshape(2,2))\n",
    "factorD = DiscreteFactor(['S', 'J'], [2, 2], SJ.reshape(2,2))\n",
    "factorE = DiscreteFactor(['D', 'S', 'T'], [2, 2, 2], DST.reshape(2,2,2))\n",
    "\n",
    "\n",
    "# raise NotImplementedError()"
   ]
  },
  {
   "cell_type": "markdown",
   "metadata": {
    "deletable": false,
    "editable": false,
    "nbgrader": {
     "cell_type": "markdown",
     "checksum": "62cfaf333210900ef7792e8c5fbd3815",
     "grade": false,
     "grade_id": "cell-02d591c49733d0af",
     "locked": true,
     "schema_version": 3,
     "solution": false,
     "task": false
    }
   },
   "source": [
    "Add the defined factors into the graph."
   ]
  },
  {
   "cell_type": "code",
   "execution_count": 27,
   "metadata": {
    "deletable": false,
    "editable": false,
    "nbgrader": {
     "cell_type": "code",
     "checksum": "a7aa068cd0d4a533540075fb5f62aec7",
     "grade": false,
     "grade_id": "cell-66733e145081b31a",
     "locked": true,
     "schema_version": 3,
     "solution": false,
     "task": false
    },
    "tags": []
   },
   "outputs": [
    {
     "data": {
      "text/plain": [
       "True"
      ]
     },
     "execution_count": 27,
     "metadata": {},
     "output_type": "execute_result"
    }
   ],
   "source": [
    "model.add_factors(factorA, factorB, factorC, factorD, factorE)\n",
    "model.check_model()"
   ]
  },
  {
   "cell_type": "code",
   "execution_count": 28,
   "metadata": {
    "deletable": false,
    "editable": false,
    "nbgrader": {
     "cell_type": "code",
     "checksum": "cfeedab946fc42cd67fbc7d36787fc06",
     "grade": false,
     "grade_id": "cell-01f35a92ca7bd404",
     "locked": true,
     "schema_version": 3,
     "solution": false,
     "task": false
    },
    "tags": []
   },
   "outputs": [],
   "source": [
    "# Create inference engine\n",
    "belief_propagation = BeliefPropagation(model)"
   ]
  },
  {
   "cell_type": "markdown",
   "metadata": {
    "deletable": false,
    "editable": false,
    "nbgrader": {
     "cell_type": "markdown",
     "checksum": "0dd973ba7de8f86a33a9e9fdcbac0e64",
     "grade": false,
     "grade_id": "cell-dd46ffcc2af65487",
     "locked": true,
     "schema_version": 3,
     "solution": false,
     "task": false
    }
   },
   "source": [
    "**Question 2A**\n",
    "\n",
    "What is the probability of road being slick if we have no evidence?"
   ]
  },
  {
   "cell_type": "code",
   "execution_count": 29,
   "metadata": {
    "deletable": false,
    "nbgrader": {
     "cell_type": "code",
     "checksum": "f662ccde07bcafe1e9abfc7b91b71687",
     "grade": true,
     "grade_id": "cell-5cb38ff9a2d20f95",
     "locked": false,
     "points": 0,
     "schema_version": 3,
     "solution": true,
     "task": false
    },
    "tags": []
   },
   "outputs": [
    {
     "name": "stdout",
     "output_type": "stream",
     "text": [
      "+------+----------+\n",
      "| S    |   phi(S) |\n",
      "+======+==========+\n",
      "| S(0) |   0.4000 |\n",
      "+------+----------+\n",
      "| S(1) |   0.6000 |\n",
      "+------+----------+\n"
     ]
    }
   ],
   "source": [
    "# YOUR CODE HERE\n",
    "\n",
    "res1 = belief_propagation.query(variables=[\"S\"])\n",
    "print(res1)\n",
    "\n",
    "# raise NotImplementedError()"
   ]
  },
  {
   "cell_type": "markdown",
   "metadata": {
    "deletable": false,
    "editable": false,
    "nbgrader": {
     "cell_type": "markdown",
     "checksum": "6941088da82d1f894a69d6adae75088b",
     "grade": false,
     "grade_id": "cell-c2fd793f3bd9d71e",
     "locked": true,
     "schema_version": 3,
     "solution": false,
     "task": false
    }
   },
   "source": [
    "**Question 2B**\n",
    "\n",
    "If Jerry has an accident, find the marginal distribution of the road to be slick."
   ]
  },
  {
   "cell_type": "code",
   "execution_count": 30,
   "metadata": {
    "deletable": false,
    "nbgrader": {
     "cell_type": "code",
     "checksum": "17d850b4626c24206b3429ec8a24a4c1",
     "grade": true,
     "grade_id": "cell-f687b7ccba32729a",
     "locked": false,
     "points": 0,
     "schema_version": 3,
     "solution": true,
     "task": false
    },
    "tags": []
   },
   "outputs": [
    {
     "name": "stdout",
     "output_type": "stream",
     "text": [
      "+------+----------+\n",
      "| S    |   phi(S) |\n",
      "+======+==========+\n",
      "| S(0) |   0.2703 |\n",
      "+------+----------+\n",
      "| S(1) |   0.7297 |\n",
      "+------+----------+\n"
     ]
    }
   ],
   "source": [
    "# YOUR CODE HERE\n",
    "\n",
    "res2 = belief_propagation.query(variables=[\"S\"], evidence={\"J\": 1})\n",
    "print(res2)\n",
    "\n",
    "# raise NotImplementedError()"
   ]
  },
  {
   "cell_type": "code",
   "execution_count": null,
   "metadata": {},
   "outputs": [],
   "source": []
  }
 ],
 "metadata": {
  "kernelspec": {
   "display_name": "Python 3 (ipykernel)",
   "language": "python",
   "name": "python3"
  },
  "language_info": {
   "codemirror_mode": {
    "name": "ipython",
    "version": 3
   },
   "file_extension": ".py",
   "mimetype": "text/x-python",
   "name": "python",
   "nbconvert_exporter": "python",
   "pygments_lexer": "ipython3",
   "version": "3.11.4"
  },
  "toc": {
   "base_numbering": 1,
   "nav_menu": {},
   "number_sections": true,
   "sideBar": true,
   "skip_h1_title": false,
   "title_cell": "Table of Contents",
   "title_sidebar": "Contents",
   "toc_cell": true,
   "toc_position": {
    "height": "calc(100% - 180px)",
    "left": "10px",
    "top": "150px",
    "width": "384px"
   },
   "toc_section_display": true,
   "toc_window_display": true
  }
 },
 "nbformat": 4,
 "nbformat_minor": 4
}
