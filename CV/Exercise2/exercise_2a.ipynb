{
 "cells": [
  {
   "cell_type": "markdown",
   "metadata": {
    "deletable": false,
    "editable": false,
    "nbgrader": {
     "cell_type": "markdown",
     "checksum": "c5cb7b65e13bca89b255b69b7385f13f",
     "grade": false,
     "grade_id": "cell-2c974fbadcd55657",
     "locked": true,
     "schema_version": 3,
     "solution": false,
     "task": false
    }
   },
   "source": [
    "This exercise consists of two parts in two notebooks:\n",
    "1. Graph Cut Segmentation\n",
    "2. Sliding Window Detection\n",
    "\n",
    "**Important**:\n",
    "Follow the instructions below when submitting your attempt.\n",
    "Submissions not following these instructions will not be graded.\n",
    "\n",
    "1. **Use JupyterLab**. Other notebook-editing software (e.g. VSCode, pycharm) might corrupt the notebook files.\n",
    "3. **Do not remove, modify or duplicate** any given cells, except those in which you need to fill in your implementation. You can add new cells in order to present additional texts or plots.\n",
    "4. **Restart the kernel and re-run the whole notebook** once before submission. After this step, the cell id should be incremental from top to bottom, and all plots should be displayed.\n",
    "5. **Submit only the `.ipynb` files**, do not upload archives (zip, rar, tar, etc.), images or datasets.\n",
    "6. **Do not change the filenames** of the `.ipynb` files."
   ]
  },
  {
   "cell_type": "markdown",
   "metadata": {
    "deletable": false,
    "editable": false,
    "nbgrader": {
     "cell_type": "markdown",
     "checksum": "38c7fa2a1a63014d5a028246a76af81e",
     "grade": false,
     "grade_id": "cell-d224cb07166650f3",
     "locked": true,
     "schema_version": 3,
     "solution": false,
     "task": false
    }
   },
   "source": [
    "# Graph Cut Segmentation\n",
    "\n",
    "In this part you will implement foreground-background segmentation using *Markov random fields* (MRF) and graph cuts.\n",
    "\n",
    "### Recap from the lecture\n",
    "A Markov random field is a graphical model that expresses the structure of (input and output) variables. In our image segmentation case this structure means that we do not simply model the foreground and background pixel colors but also take into account the neighborhood relations of the pixels. This encodes the intuition that neighboring pixels are more likely to belong to the same region than just two random pixels of the image.\n",
    "\n",
    "The color (or more generally, appearance) models and the neighborhood relations are combined in a so-called *energy function* (or cost function), which is then minimized to obtain an optimal label-assignment.\n",
    "\n",
    "Given a structured input (here: image pixel colors) $\\mathcal{Y} = \\{Y_j|j \\in I\\}$ we want to find the output (here: labeling) $\\mathcal{X} = \\{X_j | j \\in I\\}$ such that\n",
    "\n",
    "$$\n",
    "\\hat{\\mathcal{X}} = \\arg \\min_{\\mathcal{X}} E(\\mathcal{X}, \\mathcal{Y})\n",
    "$$\n",
    "\n",
    "$$\n",
    "E(\\mathcal{X}, \\mathcal{Y}) = \\sum_{j\\in I}{\\psi_u (X_j,Y_j)} + \\sum_{i, j\\in I}{\\psi_p (X_j,X_j,Y_i,Y_j)}.\n",
    "$$\n",
    "\n",
    "The set $I$ contains all possible pixel indices. In our two-label (binary) segmentation case, the label variables must be either 0 (background) or 1 (foreground) $X_j \\in \\{0, 1\\}$.\n",
    "\n",
    "The so-called *unary potential* $\\psi_u (X_j,Y_j)$ is the cost of assigning the label $X_j$ to a pixel with color $Y_j$. In probabilistic terms, the unary potential is\n",
    "\n",
    "$$\n",
    "\\psi_u (X_j,Y_j)=-\\omega_u \\cdot \\log p(X_j|Y_j),\n",
    "$$\n",
    "\n",
    "with an appropriate model $p$ for the foreground and the background and a weighting factor $\\omega_u$. The unaries encourage labeling each pixel with the label (foreground/background) whose color model is a better fit for that particular pixel.\n",
    "\n",
    "The *pairwise potential* $\\psi_p$ incorporates the dependencies between pixels. To speed up the computation, the pairwise model is usually restricted to neighboring pixels and is therefore set to zero if the $i$th and $j$th pixels are not direct neighbors in a 4-neighborhood. In our case it written as:\n",
    "\n",
    "$$\n",
    "\\psi_p (X_i,X_j,Y_i,Y_j)=\\omega_p\\cdot\n",
    "\\begin{cases}\n",
    "1,&\\text{if }   X_i\\neq X_j \\text{ and } i,j \\text{ are neighbors}  \\\\\n",
    "0,&\\text{otherwise}\n",
    "\\end{cases}\n",
    "$$\n",
    "\n",
    "with some weighting factor $\\omega_p$. Such a pairwise potential encourages neighboring pixels to have the same label because it gives some nonzero cost to each pair of neighboring pixels that are assigned different labels.\n",
    "\n",
    "After this, a Graph Cut method is used to find the optimal solution $\\hat{\\mathcal X}$ of the energy function.\n",
    "\n",
    "### Bird's eye overview\n",
    "\n",
    "It's easy to get lost in all the details, so here's an roadmap of what we're going to do:\n",
    "\n",
    "1. Set up the Markov Random Field (define unaries and pairwise potentials), in more detail:\n",
    "    1. Manually define some approximate initial background and foreground regions in the image\n",
    "    2. Model the distribution of background and foreground colors based on the colors found in the approximate initial regions\n",
    "    3. For each pixel independently, calculate the posterior probability of being foreground, based on the models from the previous step (create a \"probability map\")\n",
    "    4. Calculate the unary potentials based on the foreground probability map\n",
    "    5. Define the pairwise potentials (using the neighborhood relations)\n",
    "2. Use the graph cut algorithm to minimize the energy function of the Markov Random Field and obtain a labeling\n",
    "\n",
    "### Additional setup\n",
    "\n",
    "You will not have to implement the graph cut algorithm yourself, we use the `gco-wrapper` package instead. There is no `conda`-package available, but we can install it using `python3 -m pip install gco-wrapper`. (This is a Python wrapper over the C++ gco library. The C++ library can be found at https://vision.cs.uwaterloo.ca/code/). Make sure to activate the environment first."
   ]
  },
  {
   "cell_type": "code",
   "execution_count": null,
   "metadata": {
    "deletable": false,
    "editable": false,
    "nbgrader": {
     "cell_type": "code",
     "checksum": "288b62af1d7d6f23edb14d81f866fd4c",
     "grade": false,
     "grade_id": "cell-4615d4fb66ece32b",
     "locked": true,
     "schema_version": 3,
     "solution": false,
     "task": false
    }
   },
   "outputs": [],
   "source": [
    "# Some imports and helper functions\n",
    "import numpy as np\n",
    "import matplotlib.pyplot as plt\n",
    "import imageio\n",
    "import time\n",
    "import cv2\n",
    "import gco\n",
    "\n",
    "def draw_mask_on_image(image, mask, color=(0, 255, 255)):\n",
    "    \"\"\"Return a visualization of a mask overlaid on an image.\"\"\"\n",
    "    result = image.copy()\n",
    "    kernel = cv2.getStructuringElement(cv2.MORPH_RECT, (3, 3))\n",
    "    dilated = cv2.morphologyEx(mask.astype(np.uint8), cv2.MORPH_DILATE, kernel)\n",
    "    outline = dilated > mask\n",
    "    result[mask == 1] = (result[mask == 1] * 0.4 + \n",
    "                         np.array(color) * 0.6).astype(np.uint8)\n",
    "    result[outline] = color\n",
    "    return result"
   ]
  },
  {
   "cell_type": "markdown",
   "metadata": {
    "deletable": false,
    "editable": false,
    "nbgrader": {
     "cell_type": "markdown",
     "checksum": "f155364ecd4ef9e1abe31346f4657371",
     "grade": false,
     "grade_id": "cell-f840b2115024f6b3",
     "locked": true,
     "schema_version": 3,
     "solution": false,
     "task": false
    }
   },
   "source": [
    "## Mask Initialization\n",
    "\n",
    "First, manually create initial boxes of foreground and background regions.\n",
    "\n",
    "We will use these to build color models. That is, to model the probability of a pixel color occuring, given either that it is a foreground or a background pixel."
   ]
  },
  {
   "cell_type": "code",
   "execution_count": null,
   "metadata": {
    "deletable": false,
    "nbgrader": {
     "cell_type": "code",
     "checksum": "981af41fae472be67f2292182e502bc1",
     "grade": true,
     "grade_id": "cell-2e77789346031467",
     "locked": false,
     "points": 1,
     "schema_version": 3,
     "solution": true
    }
   },
   "outputs": [],
   "source": [
    "# POINTS: 1\n",
    "\n",
    "im = imageio.imread('lotus320.jpg')\n",
    "h,w = im.shape[:2]\n",
    "\n",
    "# Set up initial foreground and background\n",
    "# regions for building the color model\n",
    "init_fg_mask = np.zeros([h, w])\n",
    "init_bg_mask = np.zeros([h, w])\n",
    "\n",
    "# Now set some rectangular region of the initial foreground mask to 1.\n",
    "# This should be a part of the image that is fully foreground.\n",
    "# The indices in the following line are just an example,\n",
    "# and they need to be corrected so that only flower pixels are included\n",
    "# init_fg_mask[10:20, 15:30] = 1\n",
    "\n",
    "# Same for the background (replace the indices)\n",
    "# init_bg_mask[60:90, 50:110] = 1\n",
    "\n",
    "# YOUR CODE HERE\n",
    "raise NotImplementedError()\n",
    "\n",
    "fig, axes = plt.subplots(1, 2, figsize=(9.5,5))\n",
    "axes[0].set_title('Initial foreground mask')\n",
    "axes[0].imshow(draw_mask_on_image(im, init_fg_mask))\n",
    "axes[1].set_title('Initial background mask')\n",
    "axes[1].imshow(draw_mask_on_image(im, init_bg_mask))\n",
    "fig.tight_layout()"
   ]
  },
  {
   "cell_type": "markdown",
   "metadata": {
    "deletable": false,
    "editable": false,
    "nbgrader": {
     "cell_type": "markdown",
     "checksum": "1fc06ad1fb746b86ae6e89ab767a2b37",
     "grade": false,
     "grade_id": "cell-9c3d80888b51c740",
     "locked": true,
     "schema_version": 3,
     "solution": false,
     "task": false
    }
   },
   "source": [
    "## Color Modeling by Histograms\n",
    "\n",
    "A common way to model color distributions is to use *Gaussian mixture models*. However, to keep this exercise simple, we will only use color histograms (i.e. the relative frequencies of quantized colors) in the respective region of the image defined by the boxes. In other words, we model the color simply as a discretized, categorical random variable.\n",
    "\n",
    "Implement the function `calculate_histogram`. It should take as input the image `im` with values in the range $[0, 255]$ and a `mask` the same size as the image. The mask is 1 at the positions of the image where the histogram should be computed, zero elsewhere. The final parameter `n_bins` defines how many bins should be used in the histogram along each dimension. The function should **return a 3-dimensional array** of shape `[n_bins, n_bins, n_bins]`, containing the relative frequency for each `(r, g, b)` color bin within the region of the image defined by the mask, i.e. the fraction of pixels falling within each bin. The histogram should be normalized (sum to 1). All bins are initialized with a small value ($10^{−3}$) to avoid relative frequencies which are zero. (Why would zeros be a problem?)"
   ]
  },
  {
   "cell_type": "code",
   "execution_count": null,
   "metadata": {
    "deletable": false,
    "nbgrader": {
     "cell_type": "code",
     "checksum": "b176648cd0d75407b80b04d91e3b3d32",
     "grade": true,
     "grade_id": "cell-fdbb796b3660b29f",
     "locked": false,
     "points": 3,
     "schema_version": 3,
     "solution": true
    }
   },
   "outputs": [],
   "source": [
    "# POINTS: 3\n",
    "\n",
    "def calculate_histogram(im, mask, n_bins):\n",
    "    histogram = np.full((n_bins, n_bins, n_bins), fill_value=0.001)\n",
    "    \n",
    "    # YOUR CODE HERE\n",
    "    raise NotImplementedError()\n",
    "    return histogram"
   ]
  },
  {
   "cell_type": "markdown",
   "metadata": {
    "deletable": false,
    "editable": false,
    "nbgrader": {
     "cell_type": "markdown",
     "checksum": "d84ef092effd141c4296c527a74a7612",
     "grade": false,
     "grade_id": "cell-5955d470e015c9af",
     "locked": true,
     "schema_version": 3,
     "solution": false,
     "task": false
    }
   },
   "source": [
    "The following plot displays the marginal distributions of the regions you defined above."
   ]
  },
  {
   "cell_type": "code",
   "execution_count": null,
   "metadata": {
    "deletable": false,
    "editable": false,
    "nbgrader": {
     "cell_type": "code",
     "checksum": "e46974d87402df48d9262838ae56e7be",
     "grade": false,
     "grade_id": "cell-2b3a2a3a843bd70a",
     "locked": true,
     "schema_version": 3,
     "solution": false,
     "task": false
    }
   },
   "outputs": [],
   "source": [
    "n_bins = 10\n",
    "fg_histogram = calculate_histogram(im, init_fg_mask, n_bins)\n",
    "bg_histogram = calculate_histogram(im, init_bg_mask, n_bins)\n",
    "\n",
    "fig, axes = plt.subplots(\n",
    "    3, 2, figsize=(5,5), sharex=True, \n",
    "    sharey=True, num='Relative frequency of color bins')\n",
    "\n",
    "x = np.arange(n_bins)\n",
    "axes[0,0].bar(x, np.sum(fg_histogram, (1, 2)))\n",
    "axes[0,0].set_title('red (foreground)')\n",
    "axes[1,0].bar(x, np.sum(fg_histogram, (0, 2)))\n",
    "axes[1,0].set_title('green (foreground)')\n",
    "axes[2,0].bar(x, np.sum(fg_histogram, (0, 1)))\n",
    "axes[2,0].set_title('blue (foreground)')\n",
    "\n",
    "axes[0,1].bar(x, np.sum(bg_histogram, (1, 2)))\n",
    "axes[0,1].set_title('red (background)')\n",
    "axes[1,1].bar(x, np.sum(bg_histogram, (0, 2)))\n",
    "axes[1,1].set_title('green (background)')\n",
    "axes[2,1].bar(x, np.sum(bg_histogram, (0, 1)))\n",
    "axes[2,1].set_title('blue (background)')\n",
    "fig.tight_layout()"
   ]
  },
  {
   "cell_type": "markdown",
   "metadata": {
    "deletable": false,
    "editable": false,
    "nbgrader": {
     "cell_type": "markdown",
     "checksum": "52302f1336ad1c637430bb887d10aeb2",
     "grade": false,
     "grade_id": "cell-c6e77ea0098d9295",
     "locked": true,
     "schema_version": 3,
     "solution": false,
     "task": false
    }
   },
   "source": [
    "How does the histogram calculation in `calculate_histogram` differ from creating 3 separate histograms, for R, G, and B individually? Would this alternative method (separate histograms) yield more or or less information about the image?"
   ]
  },
  {
   "cell_type": "markdown",
   "metadata": {
    "deletable": false,
    "nbgrader": {
     "cell_type": "markdown",
     "checksum": "dba12e6f58fb56e6ed5c2848181f564a",
     "grade": true,
     "grade_id": "cell-7582c0855089a2b7",
     "locked": false,
     "points": 1,
     "schema_version": 3,
     "solution": true,
     "task": false
    }
   },
   "source": [
    "*POINTS: 1*\n",
    "\n",
    "YOUR ANSWER HERE"
   ]
  },
  {
   "cell_type": "markdown",
   "metadata": {
    "deletable": false,
    "editable": false,
    "nbgrader": {
     "cell_type": "markdown",
     "checksum": "2b3fa372a9dce95f78a033cb027ae443",
     "grade": false,
     "grade_id": "cell-096810fbf819ba25",
     "locked": true,
     "schema_version": 3,
     "solution": false,
     "task": false
    }
   },
   "source": [
    "## Foreground Probability Map\n",
    "\n",
    "The next step in the segmentation process is to estimate a probability map: For each pixel we want to estimate the probability that it belongs to the foreground. This will be used as basis for the unary potential.\n",
    "\n",
    "The function `foreground_pmap(im, fg_histogram, bg_histogram)` should take the image `im` and the two histograms `fg_histogram`, `bg_histogram` estimated from the foreground region and the background region respecively. It should return an array of shape $\\texttt{height}\\times\\texttt{width}$ containing the probability of each pixel belonging to the foreground. To estimate the required probability $p(c|[r, g, b])$ from the computed histograms, a class prior $p(c)$ of $0.5$ should be used, which means that both foreground and background pixels are equally likely a priori. \n",
    "\n",
    "Recall Bayes' theorem applied to this case:\n",
    "\n",
    "$$\n",
    "p(c\\ |\\ r,g,b) = \\frac{p(c) \\cdot p(r,g,b\\ |\\ c)}{p(r,g,b)} = \\frac{p(c)\\cdot p(r,g,b\\ |\\ c)}{\\sum_{\\tilde{c}} p(\\tilde{c}) \\cdot p(r,g,b\\ |\\ \\tilde{c}) }\n",
    "$$"
   ]
  },
  {
   "cell_type": "code",
   "execution_count": null,
   "metadata": {
    "deletable": false,
    "nbgrader": {
     "cell_type": "code",
     "checksum": "1e4704937b856904340803781c547e54",
     "grade": true,
     "grade_id": "cell-95f7f7212e4f293c",
     "locked": false,
     "points": 4,
     "schema_version": 3,
     "solution": true
    }
   },
   "outputs": [],
   "source": [
    "# POINTS: 4\n",
    "\n",
    "def foreground_pmap(im, fg_histogram, bg_histogram):\n",
    "    # YOUR CODE HERE\n",
    "    raise NotImplementedError()"
   ]
  },
  {
   "cell_type": "code",
   "execution_count": null,
   "metadata": {
    "deletable": false,
    "editable": false,
    "nbgrader": {
     "cell_type": "code",
     "checksum": "771323159b16a1502c3faf30a2e5dfd4",
     "grade": false,
     "grade_id": "cell-161811bcc3bd5263",
     "locked": true,
     "schema_version": 3,
     "solution": false,
     "task": false
    }
   },
   "outputs": [],
   "source": [
    "foreground_prob = foreground_pmap(im, fg_histogram, bg_histogram)\n",
    "fig, axes = plt.subplots(1, 2, figsize=(9.5,5), sharey=True)\n",
    "axes[0].imshow(im)\n",
    "axes[0].set_title('Input image')\n",
    "im_plot = axes[1].imshow(foreground_prob, cmap='viridis')\n",
    "axes[1].set_title('Foreground posterior probability')\n",
    "fig.tight_layout()\n",
    "fig.colorbar(im_plot, ax=axes)\n",
    "foreground_map = (foreground_prob > 0.5)"
   ]
  },
  {
   "cell_type": "markdown",
   "metadata": {
    "deletable": false,
    "editable": false,
    "nbgrader": {
     "cell_type": "markdown",
     "checksum": "ac62a5d389a97ff6d9bdb1c93c33859c",
     "grade": false,
     "grade_id": "cell-a645a5f0eedbc4f9",
     "locked": true,
     "schema_version": 3,
     "solution": false,
     "task": false
    }
   },
   "source": [
    "Explain what you see in the probability map."
   ]
  },
  {
   "cell_type": "markdown",
   "metadata": {
    "deletable": false,
    "nbgrader": {
     "cell_type": "markdown",
     "checksum": "01c47eda633552becac2747265c696ac",
     "grade": true,
     "grade_id": "cell-35edc5393045eb8e",
     "locked": false,
     "points": 1,
     "schema_version": 3,
     "solution": true,
     "task": false
    }
   },
   "source": [
    "*POINTS: 1*\n",
    "\n",
    "YOUR ANSWER HERE"
   ]
  },
  {
   "cell_type": "markdown",
   "metadata": {
    "deletable": false,
    "editable": false,
    "nbgrader": {
     "cell_type": "markdown",
     "checksum": "f97174f83651c0b3c813e16fcdaf3f9b",
     "grade": false,
     "grade_id": "cell-b4941d234b33f442",
     "locked": true,
     "schema_version": 3,
     "solution": false,
     "task": false
    }
   },
   "source": [
    "## Unary Potentials\n",
    "Use the previously computed probability map `foreground_map` to compute the unary potential for both foreground and background.\n",
    "\n",
    "This function `unary_potentials(probability_map, unary_weight)` shall use the `probability_map` and a scalar weighting factor to compute the unary potentials. It should return a matrix of the same size as the probability matrix."
   ]
  },
  {
   "cell_type": "code",
   "execution_count": null,
   "metadata": {
    "deletable": false,
    "nbgrader": {
     "cell_type": "code",
     "checksum": "8e74078a1e0d83feed30db3966369380",
     "grade": true,
     "grade_id": "cell-b49b5083d5721c0f",
     "locked": false,
     "points": 1,
     "schema_version": 3,
     "solution": true
    }
   },
   "outputs": [],
   "source": [
    "# POINTS: 1\n",
    "\n",
    "def unary_potentials(probability_map, unary_weight):\n",
    "    # YOUR CODE HERE\n",
    "    raise NotImplementedError()\n",
    "    \n",
    "unary_weight = 1\n",
    "unary_fg = unary_potentials(foreground_prob, unary_weight)\n",
    "unary_bg = unary_potentials(1 - foreground_prob, unary_weight)\n",
    "fig, axes = plt.subplots(1, 2, figsize=(9.5,5), sharey=True)\n",
    "axes[0].imshow(unary_fg)\n",
    "axes[0].set_title('Unary potentials (foreground)')\n",
    "im_plot = axes[1].imshow(unary_bg)\n",
    "axes[1].set_title('Unary potentials (background)')\n",
    "fig.tight_layout()\n",
    "fig.colorbar(im_plot, ax=axes)"
   ]
  },
  {
   "cell_type": "markdown",
   "metadata": {
    "deletable": false,
    "editable": false,
    "nbgrader": {
     "cell_type": "markdown",
     "checksum": "1b91b1d45914a6f921c3a60b053ef540",
     "grade": false,
     "grade_id": "cell-c2d1fa35b22a4f7b",
     "locked": true,
     "schema_version": 3,
     "solution": false,
     "task": false
    }
   },
   "source": [
    "Why are the unary potentials for the foreground so small in the middle of the flower?"
   ]
  },
  {
   "cell_type": "markdown",
   "metadata": {
    "deletable": false,
    "nbgrader": {
     "cell_type": "markdown",
     "checksum": "d894893b9c77dab507a57f453ca14d06",
     "grade": true,
     "grade_id": "cell-fe74e786d39d5cac",
     "locked": false,
     "points": 1,
     "schema_version": 3,
     "solution": true,
     "task": false
    }
   },
   "source": [
    "*POINTS: 1*\n",
    "\n",
    "YOUR ANSWER HERE"
   ]
  },
  {
   "cell_type": "markdown",
   "metadata": {
    "deletable": false,
    "editable": false,
    "nbgrader": {
     "cell_type": "markdown",
     "checksum": "421b911612c3e65f1fd11913338488c8",
     "grade": false,
     "grade_id": "cell-f2e7690015dd426a",
     "locked": true,
     "schema_version": 3,
     "solution": false,
     "task": false
    }
   },
   "source": [
    "## Pairwise Potentials\n",
    "\n",
    "Create a function to compute the prefactor $w_p$ of the pairwise potential for two specific pixels. Implement the function below, where `im` is the image, `(x1, y1), (x2, y2)` are the pixel coordinates in the image and the last parameter is the weight $\\omega_p$ for the pairwise potential. (Do not confuse `(x1, y1), (x2, y2)` with the $X_j, Y_j$ from the top of the page. There $\\mathcal X$ was the label and $\\mathcal Y$ the pixel value, here they are the $x$ and $y$ coordinates in the image) \n",
    "\n",
    "Here we want to use the so-called *contrast sensitive Potts model*. The pairwise potential should be:\n",
    "\n",
    "$$\n",
    "\\psi_p (X_i,X_j,Y_i,Y_j,i,j)=\\omega_p\\cdot \\exp\\left(-\\omega_d\\|Y_i - Y_j\\|^2\\right)\\cdot \n",
    "\\begin{cases}\n",
    "1,&\\text{if } X_i \\neq X_j \\text{ and } i,j \\text{ are neighbors}  \\\\\n",
    "0,&\\text{otherwise}\n",
    "\\end{cases}\n",
    "$$\n",
    "\n",
    "This means the prefactor is $\\omega_p\\cdot \\exp\\left(-\\omega_d\\|Y_i - Y_j\\|^2\\right)$. For simplicity, you can hardcode the parameter $\\omega_d = 0.1$. "
   ]
  },
  {
   "cell_type": "code",
   "execution_count": null,
   "metadata": {
    "deletable": false,
    "nbgrader": {
     "cell_type": "code",
     "checksum": "67cf7871ebc77e9cbc35cf579e28eb3d",
     "grade": true,
     "grade_id": "cell-c5fb31a66d81191c",
     "locked": false,
     "points": 3,
     "schema_version": 3,
     "solution": true,
     "task": false
    }
   },
   "outputs": [],
   "source": [
    "# POINTS: 3\n",
    "\n",
    "def pairwise_potential_prefactor(im, x1, y1, x2, y2, pairwise_weight):\n",
    "    # YOUR CODE HERE\n",
    "    raise NotImplementedError()"
   ]
  },
  {
   "cell_type": "markdown",
   "metadata": {
    "deletable": false,
    "editable": false,
    "nbgrader": {
     "cell_type": "markdown",
     "checksum": "25fe8343aec5f19cda3b74b2af6a8551",
     "grade": false,
     "grade_id": "cell-59d63e8a6f9ee432",
     "locked": true,
     "schema_version": 3,
     "solution": false,
     "task": false
    }
   },
   "source": [
    "Using the functions from the previous task, implement a function to compute all the pairwise potentials for the image using 4-neighborhoods. That means only the top, bottom, left and right neighboring pixels should be connected to a given pixel.\n",
    "\n",
    "The function `pairwise_potentials` should return the `edges` (represented as index pairs) and an array `costs` containing the corresponding edge costs (i.e. the value of the pairwise potential prefactor). You have to use a linearized index instead of (x,y)-coordinates for the edge indices. A conversion function is supplied (`coords_to_index(x, y, width)`).\n",
    "\n",
    "Thus, `edges` should be an integer array of shape $k\\times 2$, while `costs` should have length $k$, where $k$ is the number of neighborhood-edges in the image grid."
   ]
  },
  {
   "cell_type": "code",
   "execution_count": null,
   "metadata": {
    "deletable": false,
    "nbgrader": {
     "cell_type": "code",
     "checksum": "89f4f95df8bbd96ca4c2373c39e105d7",
     "grade": true,
     "grade_id": "cell-d1c10b8c69f5ccbb",
     "locked": false,
     "points": 4,
     "schema_version": 3,
     "solution": true
    }
   },
   "outputs": [],
   "source": [
    "# POINTS: 4\n",
    "\n",
    "def coords_to_index(x, y, width):\n",
    "    return y * width + x\n",
    "\n",
    "def pairwise_potentials(im, pairwise_weight):\n",
    "    # YOUR CODE HERE\n",
    "    raise NotImplementedError()\n",
    "    return edges, costs\n",
    "\n",
    "pairwise_edges, pairwise_costs = pairwise_potentials(im, pairwise_weight=1)"
   ]
  },
  {
   "cell_type": "markdown",
   "metadata": {
    "deletable": false,
    "editable": false,
    "nbgrader": {
     "cell_type": "markdown",
     "checksum": "21c1bd998c4b8b9cb5fd4770ded2112e",
     "grade": false,
     "grade_id": "cell-7ba9dbb69bfbe818",
     "locked": true,
     "schema_version": 3,
     "solution": false,
     "task": false
    }
   },
   "source": [
    "Now you can execute the optimization procedure and plot the resulting labeling."
   ]
  },
  {
   "cell_type": "code",
   "execution_count": null,
   "metadata": {
    "deletable": false,
    "editable": false,
    "nbgrader": {
     "cell_type": "code",
     "checksum": "1e1d2dc72cd6f30d41d63211ebb9a03c",
     "grade": false,
     "grade_id": "cell-5022d107deabe13a",
     "locked": true,
     "schema_version": 3,
     "solution": false,
     "task": false
    }
   },
   "outputs": [],
   "source": [
    "def graph_cut(unary_fg, unary_bg, pairwise_edges, pairwise_costs):\n",
    "    unaries = np.stack([unary_bg.flat, unary_fg.flat], axis=-1)\n",
    "    labels = gco.cut_general_graph(\n",
    "        pairwise_edges, pairwise_costs, unaries, \n",
    "        1-np.eye(2), n_iter=-1, algorithm='swap')\n",
    "    return labels.reshape(unary_fg.shape)\n",
    "\n",
    "graph_cut_result = graph_cut(unary_fg, unary_bg, pairwise_edges, pairwise_costs)\n",
    "fig, axes = plt.subplots(1, 2, figsize=(9.5,5), sharey=True)\n",
    "axes[0].set_title('Thresholding of per-pixel foreground probability at 0.5')\n",
    "axes[0].imshow(draw_mask_on_image(im, foreground_prob>0.5))\n",
    "axes[1].set_title('Graph cut result')\n",
    "axes[1].imshow(draw_mask_on_image(im, graph_cut_result))\n",
    "fig.tight_layout()"
   ]
  },
  {
   "cell_type": "markdown",
   "metadata": {
    "deletable": false,
    "editable": false,
    "nbgrader": {
     "cell_type": "markdown",
     "checksum": "6550d662a2ced4f4dca2b45a8535cddb",
     "grade": false,
     "grade_id": "cell-182388c0f02e64b4",
     "locked": true,
     "schema_version": 3,
     "solution": false,
     "task": false
    }
   },
   "source": [
    "Explain what you see. Why is the segmentation the way it is? What happens if you increase the pairwise weight in the previous cell?"
   ]
  },
  {
   "cell_type": "markdown",
   "metadata": {
    "deletable": false,
    "nbgrader": {
     "cell_type": "markdown",
     "checksum": "45b200919c2c6fdded0e99451b491791",
     "grade": true,
     "grade_id": "cell-9ae3813d75e1500b",
     "locked": false,
     "points": 0,
     "schema_version": 3,
     "solution": true
    }
   },
   "source": [
    "*POINTS: 0*\n",
    "\n",
    "YOUR ANSWER HERE"
   ]
  },
  {
   "cell_type": "markdown",
   "metadata": {
    "deletable": false,
    "editable": false,
    "nbgrader": {
     "cell_type": "markdown",
     "checksum": "b48796fac1258306d75e0a444889ae9e",
     "grade": false,
     "grade_id": "cell-dfac7aaddda25cc1",
     "locked": true,
     "schema_version": 3,
     "solution": false,
     "task": false
    }
   },
   "source": [
    "## Try further images\n",
    "\n",
    "First, create a single function that runs the whole segmentation pipeline starting from the image and the initial regions.\n",
    "\n",
    "`segment_image(...)` should return the final binary segmentation mask with 1 at the foreground pixels and 0 at the background."
   ]
  },
  {
   "cell_type": "code",
   "execution_count": null,
   "metadata": {
    "deletable": false,
    "nbgrader": {
     "cell_type": "code",
     "checksum": "abc9a4e623275f5fcee55f313b974ac3",
     "grade": true,
     "grade_id": "cell-fe2ce88a33cb65ea",
     "locked": false,
     "points": 2,
     "schema_version": 3,
     "solution": true,
     "task": false
    }
   },
   "outputs": [],
   "source": [
    "# POINTS: 2\n",
    "\n",
    "def segment_image(im, init_fg_mask, init_bg_mask,\n",
    "                  unary_weight, pairwise_weight, n_bins):\n",
    "    # YOUR CODE HERE\n",
    "    raise NotImplementedError()"
   ]
  },
  {
   "cell_type": "code",
   "execution_count": null,
   "metadata": {
    "deletable": false,
    "nbgrader": {
     "cell_type": "code",
     "checksum": "04a3c2f2cd6e6d76956d06164e504df6",
     "grade": true,
     "grade_id": "cell-eac3714d77c34a96",
     "locked": false,
     "points": 1,
     "schema_version": 3,
     "solution": true,
     "task": false
    }
   },
   "outputs": [],
   "source": [
    "# POINTS: 1\n",
    "\n",
    "import skimage.data\n",
    "\n",
    "im_cells = skimage.data.immunohistochemistry()\n",
    "h_cells, w_cells = im_cells.shape[:2]\n",
    "fg_mask_cells = np.zeros([h_cells, w_cells])\n",
    "bg_mask_cells = np.zeros([h_cells, w_cells])\n",
    "\n",
    "# Set some appropriate parts of fg_mask and bg_mask to 1 for initialization.\n",
    "# YOUR CODE HERE\n",
    "raise NotImplementedError()\n",
    "\n",
    "graph_cut_result_cells = segment_image(\n",
    "    im_cells, fg_mask_cells, bg_mask_cells, \n",
    "    unary_weight=1, pairwise_weight=1, n_bins=8)\n",
    "\n",
    "fig, axes = plt.subplots(1, 3, figsize=(9.5,5), sharey=True)\n",
    "axes[0].set_title('Initial foreground mask')\n",
    "axes[0].imshow(draw_mask_on_image(im_cells, fg_mask_cells))\n",
    "axes[1].set_title('Initial background mask')\n",
    "axes[1].imshow(draw_mask_on_image(im_cells, bg_mask_cells))\n",
    "axes[2].set_title('Graph cut result')\n",
    "axes[2].imshow(draw_mask_on_image(im_cells, graph_cut_result_cells))\n",
    "fig.tight_layout()"
   ]
  },
  {
   "cell_type": "markdown",
   "metadata": {
    "deletable": false,
    "editable": false,
    "nbgrader": {
     "cell_type": "markdown",
     "checksum": "9d2c83c03229536142a24b9ccc5fbe4e",
     "grade": false,
     "grade_id": "cell-39b384473ea64f3e",
     "locked": true,
     "schema_version": 3,
     "solution": false,
     "task": false
    }
   },
   "source": [
    "Does it look good? Which parameter would you need to change to reduce the number of holes in the segmentation? Try it.\n",
    "\n",
    "Now try segmenting `im = skimage.data.stereo_motorcycle()[0]` using this technique."
   ]
  },
  {
   "cell_type": "code",
   "execution_count": null,
   "metadata": {
    "deletable": false,
    "nbgrader": {
     "cell_type": "code",
     "checksum": "21d06d59966594486e40016f1a289c3b",
     "grade": true,
     "grade_id": "cell-a84a71e6d0b2a9fe",
     "locked": false,
     "points": 1,
     "schema_version": 3,
     "solution": true,
     "task": false
    }
   },
   "outputs": [],
   "source": [
    "# POINTS: 1\n",
    "\n",
    "import skimage.data\n",
    "\n",
    "im_bike = skimage.data.stereo_motorcycle()[0]\n",
    "h_bike, w_bike = im_bike.shape[:2]\n",
    "fg_mask_bike = np.zeros([h_bike, w_bike])\n",
    "bg_mask_bike = np.zeros([h_bike, w_bike])\n",
    "\n",
    "# Set some appropriate parts of fg_mask and bg_mask to 1 for initialization.\n",
    "# YOUR CODE HERE\n",
    "raise NotImplementedError()\n",
    "\n",
    "graph_cut_result_bike = segment_image(\n",
    "    im_bike, fg_mask_bike, bg_mask_bike, \n",
    "    unary_weight=1, pairwise_weight=1, n_bins=8)\n",
    "\n",
    "fig, axes = plt.subplots(1, 3, figsize=(9.5,5), sharey=True)\n",
    "axes[0].set_title('Initial foreground mask')\n",
    "axes[0].imshow(draw_mask_on_image(im_bike, fg_mask_bike))\n",
    "axes[1].set_title('Initial background mask')\n",
    "axes[1].imshow(draw_mask_on_image(im_bike, bg_mask_bike))\n",
    "axes[2].set_title('Graph cut result')\n",
    "axes[2].imshow(draw_mask_on_image(im_bike, graph_cut_result_bike))\n",
    "fig.tight_layout()"
   ]
  },
  {
   "cell_type": "markdown",
   "metadata": {
    "deletable": false,
    "editable": false,
    "nbgrader": {
     "cell_type": "markdown",
     "checksum": "e79b4b12987cf6979b9a6d5f64b34f4b",
     "grade": false,
     "grade_id": "cell-31f3ad8e0247828f",
     "locked": true,
     "schema_version": 3,
     "solution": false,
     "task": false
    }
   },
   "source": [
    "Can you segment the motorbike by fiddling with the parameters? Why or why not?"
   ]
  },
  {
   "cell_type": "markdown",
   "metadata": {
    "deletable": false,
    "nbgrader": {
     "cell_type": "markdown",
     "checksum": "153bcdc66069cbc94cbe98b37c982406",
     "grade": true,
     "grade_id": "cell-617f9e4ec2788e1c",
     "locked": false,
     "points": 1,
     "schema_version": 3,
     "solution": true,
     "task": false
    }
   },
   "source": [
    "*POINTS: 1*\n",
    "\n",
    "YOUR ANSWER HERE"
   ]
  },
  {
   "cell_type": "markdown",
   "metadata": {
    "deletable": false,
    "editable": false,
    "nbgrader": {
     "cell_type": "markdown",
     "checksum": "da143643cb8e39c5c436fc4dd9dfdba7",
     "grade": false,
     "grade_id": "cell-e5a91dd392fb61a8",
     "locked": true,
     "schema_version": 3,
     "solution": false,
     "task": false
    }
   },
   "source": [
    "## Iterative Segmentation\n",
    "\n",
    "We can make the result better if we iterate the labeling process several times. Implement `iterative_opt`, a method to execute the optimization process iteratively. \n",
    "\n",
    "Use the previously computed labeling as initial segmentation (instead of the rectangular masks we used above) and estimate new models (histograms and unaries) for foreground and background based on these. Solve the graph cut problem and use the resulting segmentation in the next iteration."
   ]
  },
  {
   "cell_type": "code",
   "execution_count": null,
   "metadata": {
    "deletable": false,
    "nbgrader": {
     "cell_type": "code",
     "checksum": "54095c6847dfc74223f4f42bb1c4274d",
     "grade": true,
     "grade_id": "cell-2ce5215dc845ca7b",
     "locked": false,
     "points": 4,
     "schema_version": 3,
     "solution": true,
     "task": false
    }
   },
   "outputs": [],
   "source": [
    "# POINTS: 4\n",
    "\n",
    "def iterative_opt(im, fg_mask, n_bins, unary_weight,\n",
    "                  pairwise_edges, pairwise_costs, n_iter):\n",
    "    # YOUR CODE HERE\n",
    "    raise NotImplementedError()\n",
    "\n",
    "labels_5 = iterative_opt(\n",
    "    im, graph_cut_result, n_bins, unary_weight, pairwise_edges, pairwise_costs, n_iter=5)\n",
    "labels_10 = iterative_opt(\n",
    "    im, labels_5, n_bins, unary_weight, pairwise_edges, pairwise_costs, n_iter=5)\n",
    "\n",
    "fig, axes = plt.subplots(1, 3, figsize=(9.5,4), sharex=True, sharey=True)\n",
    "axes[0].set_title('Initial')\n",
    "axes[0].imshow(draw_mask_on_image(im, graph_cut_result))\n",
    "axes[1].set_title(f'After 5 iterations')\n",
    "axes[1].imshow(draw_mask_on_image(im, labels_5))\n",
    "axes[2].set_title(f'After 10 iterations')\n",
    "axes[2].imshow(draw_mask_on_image(im, labels_10))\n",
    "fig.tight_layout()"
   ]
  }
 ],
 "metadata": {
  "kernelspec": {
   "display_name": "Python 3 (ipykernel)",
   "language": "python",
   "name": "python3"
  },
  "language_info": {
   "codemirror_mode": {
    "name": "ipython",
    "version": 3
   },
   "file_extension": ".py",
   "mimetype": "text/x-python",
   "name": "python",
   "nbconvert_exporter": "python",
   "pygments_lexer": "ipython3",
   "version": "3.12.2"
  }
 },
 "nbformat": 4,
 "nbformat_minor": 4
}
