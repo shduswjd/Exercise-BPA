{
  "cells": [
    {
      "cell_type": "markdown",
      "metadata": {
        "id": "359817a2"
      },
      "source": [
        "# FML - Winter Semester 2022"
      ],
      "id": "359817a2"
    },
    {
      "cell_type": "markdown",
      "metadata": {
        "id": "325d160f-99f1-47f6-9f15-11610711d7c4"
      },
      "source": [
        "# Bonus Points Assignment 1\n",
        "\n",
        "<div style=\"text-align: right;font-size: 0.8em\">Document Version 1.0.0</div>\n",
        "For detailed task instructions, please refer to the assignment PDF.\n",
        "\n",
        "This assignment requires `numpy`, `matplotlib`, `scikit-learn`, and `scipy` to run. If one of these imports fails, please install the corresponding library and make sure that you have activated the corresponding virtual environment. If the problem persists, please seek help on the forums or use [the JupyterHub profile of the lecture](https://jupyter.rwth-aachen.de/hub/spawn)."
      ],
      "id": "325d160f-99f1-47f6-9f15-11610711d7c4"
    },
    {
      "cell_type": "code",
      "execution_count": 1,
      "metadata": {
        "id": "232cac89-d8dc-42d6-a4c1-b88ab246ea4f"
      },
      "outputs": [],
      "source": [
        "import numpy as np\n",
        "np.random.seed(1234)\n",
        "\n",
        "from pathlib import Path\n",
        "ROOT = Path().resolve()\n",
        "DATA = ROOT / 'data'  # This contains the path to the data/ folder of the assignment"
      ],
      "id": "232cac89-d8dc-42d6-a4c1-b88ab246ea4f"
    },
    {
      "cell_type": "markdown",
      "metadata": {
        "id": "3d3008a6-692c-435a-b4fb-84d8920cb098"
      },
      "source": [
        "### Setup\n",
        "__Question 1.1__ Load the data into the following numpy arrays. For the output, only use the first torque variable.\n",
        "Randomly split the data from the file ```sarcos_inv.mat``` into a training set (80%) and a validation set (20%)."
      ],
      "id": "3d3008a6-692c-435a-b4fb-84d8920cb098"
    },
    {
      "cell_type": "code",
      "execution_count": 3,
      "metadata": {
        "id": "450ae9e8-fc4f-44da-94ad-66aa3caf715d"
      },
      "outputs": [],
      "source": [
        "import scipy.io  # Use scipy.io to import the data\n",
        "\n",
        "# First, load the data sets as numpy arrays\n",
        "# Then, split it appropriately in the following variables\n",
        "train = scipy.io.loadmat('sarcos_inv.mat')\n",
        "test = scipy.io.loadmat('sarcos_inv_test.mat')\n",
        "train = train['sarcos_inv']\n",
        "test = test['sarcos_inv_test']\n",
        "\n",
        "# index shuffle -> sort by shuffled index\n",
        "idx = len(train)\n",
        "shuffle_idx = np.random.randint(idx, size=idx)\n",
        "train = train[shuffle_idx]\n",
        "\n",
        "# valid(20%), train(80%) split\n",
        "valid_num = int(np.ceil(len(train) * 0.2))\n",
        "train_num = len(train) - valid_num\n",
        "\n",
        "# Input and output training data\n",
        "xs_train = train[valid_num:, :21]\n",
        "ys_train = train[valid_num:, 21:22]\n",
        "\n",
        "# Input and output validation data\n",
        "xs_valid = train[:valid_num, :21]\n",
        "ys_valid = train[:valid_num, 21:22]\n",
        "\n",
        "# Input and output test data\n",
        "xs_test = test[:, :21]\n",
        "ys_test = test[:, 21:22]\n",
        "# YOUR CODE HERE\n",
        "\n",
        "\n",
        "# raise NotImplementedError()"
      ],
      "id": "450ae9e8-fc4f-44da-94ad-66aa3caf715d"
    },
    {
      "cell_type": "markdown",
      "metadata": {
        "id": "592ffa0b-f5d0-4382-9133-115f705821f4"
      },
      "source": [
        "Use the following checks to make sure that your data has the right shapes."
      ],
      "id": "592ffa0b-f5d0-4382-9133-115f705821f4"
    },
    {
      "cell_type": "code",
      "execution_count": 4,
      "metadata": {
        "id": "efd5e85e-f29d-440f-b90e-4114ff30e831"
      },
      "outputs": [],
      "source": [
        "assert xs_train.shape == (35587, 21), \"xs_train should contain 35587 21-dimensional data points\"\n",
        "assert ys_train.shape == (35587, 1), \"ys_train should contain 35587 1-dimensional data points\"\n",
        "assert xs_valid.shape == (8897, 21), \"xs_valid should contain 8897 21-dimensional data points\"\n",
        "assert ys_valid.shape == (8897, 1), \"ys_valid should contain 8897 1-dimensional data points\"\n",
        "assert xs_test.shape == (4449, 21), \"xs_test should contain 4449 21-dimensional data points\"\n",
        "assert ys_test.shape == (4449, 1), \"ys_test should contain 4449 1-dimensional data points\""
      ],
      "id": "efd5e85e-f29d-440f-b90e-4114ff30e831"
    },
    {
      "cell_type": "code",
      "execution_count": null,
      "metadata": {
        "id": "2a3ba34e"
      },
      "outputs": [],
      "source": [
        "# Used for grading. Do not change."
      ],
      "id": "2a3ba34e"
    },
    {
      "cell_type": "markdown",
      "metadata": {
        "id": "b8d354c6-748c-48eb-a6b2-aafb2f44d887"
      },
      "source": [
        "__Question 1.2__ Implement `my_variance` and `my_mse`."
      ],
      "id": "b8d354c6-748c-48eb-a6b2-aafb2f44d887"
    },
    {
      "cell_type": "code",
      "execution_count": 5,
      "metadata": {
        "id": "0a3b7b73-ce98-4e33-ad86-38a09fd3854c"
      },
      "outputs": [],
      "source": [
        "def my_variance(xs: np.ndarray) -> np.ndarray:\n",
        "    \"\"\" Computes the sample variance of a given vector of scalars\n",
        "\n",
        "    Args:\n",
        "        xs: 1D numpy array containing scalars\n",
        "\n",
        "    Returns:\n",
        "        The empirical variance of the provided vector as a float\n",
        "    \"\"\"\n",
        "    # YOUR CODE HERE\n",
        "    var = np.var(xs)\n",
        "    return var\n",
        "    raise NotImplementedError()"
      ],
      "id": "0a3b7b73-ce98-4e33-ad86-38a09fd3854c"
    },
    {
      "cell_type": "markdown",
      "metadata": {
        "id": "294126de-399e-43de-a559-ee02b40109b1"
      },
      "source": [
        "Use the following checks to make sure that your function gives the correct sample variance in simple cases."
      ],
      "id": "294126de-399e-43de-a559-ee02b40109b1"
    },
    {
      "cell_type": "code",
      "execution_count": 6,
      "metadata": {
        "id": "be979536-36b2-4823-b69d-5b6eb890c628"
      },
      "outputs": [],
      "source": [
        "assert np.isclose(my_variance(np.array([1, 1, 1])), 0), \"Variance of this vector should be 0\"\n",
        "assert np.isclose(my_variance(np.array([1, 2, 3, 4, 5])), 2), \"Variance of this vector should be 2\""
      ],
      "id": "be979536-36b2-4823-b69d-5b6eb890c628"
    },
    {
      "cell_type": "code",
      "execution_count": null,
      "metadata": {
        "id": "588af5ef"
      },
      "outputs": [],
      "source": [
        "# Used for grading. Do not change."
      ],
      "id": "588af5ef"
    },
    {
      "cell_type": "code",
      "execution_count": null,
      "metadata": {
        "id": "2622c0df-76b9-49b1-9d3d-92b06e046c96"
      },
      "outputs": [],
      "source": [
        "# Used for grading. Do not change."
      ],
      "id": "2622c0df-76b9-49b1-9d3d-92b06e046c96"
    },
    {
      "cell_type": "markdown",
      "metadata": {
        "id": "0e2e0c41-1f25-444a-b432-a5daf1198b1f"
      },
      "source": [
        "Now, implement the MSE function."
      ],
      "id": "0e2e0c41-1f25-444a-b432-a5daf1198b1f"
    },
    {
      "cell_type": "code",
      "execution_count": 7,
      "metadata": {
        "id": "e6f68384-ad06-43de-bca5-fbcc2f2d67d0"
      },
      "outputs": [],
      "source": [
        "def my_mse(z1: np.ndarray, z2: np.ndarray):\n",
        "    \"\"\" Computes the Mean Squared Error (MSE)\n",
        "\n",
        "    Args:\n",
        "        z1: A 1D numpy array (usually the predictions).\n",
        "        z2: Another 1D numpy array.\n",
        "\n",
        "    Returns\n",
        "        The MSE of the given data.\n",
        "    \"\"\"\n",
        "    # YOUR CODE HERE\n",
        "    mse = np.mean((z2 - z1)**2)\n",
        "    return mse\n",
        "    raise NotImplementedError()"
      ],
      "id": "e6f68384-ad06-43de-bca5-fbcc2f2d67d0"
    },
    {
      "cell_type": "markdown",
      "metadata": {
        "id": "6a1f5538-05e1-4a5e-857c-05555ec59ed6"
      },
      "source": [
        "Use the following checks to make sure that your function gives the correct MSE in simple cases."
      ],
      "id": "6a1f5538-05e1-4a5e-857c-05555ec59ed6"
    },
    {
      "cell_type": "code",
      "execution_count": 8,
      "metadata": {
        "id": "6f04b48b-b97b-42e8-ad5d-1ce67e220e89"
      },
      "outputs": [],
      "source": [
        "assert np.isclose(my_mse(np.array([3.0]), np.array([4.0])), 1), \"The MSE between 3 and 4 should be 1\"\n",
        "assert np.isclose(my_mse(np.array([1, 2, 3, 4]), np.array([1, 2, 3, 4])), 0), \"MSE should be 0 for identical z vectors\""
      ],
      "id": "6f04b48b-b97b-42e8-ad5d-1ce67e220e89"
    },
    {
      "cell_type": "code",
      "execution_count": null,
      "metadata": {
        "id": "cfea0c35"
      },
      "outputs": [],
      "source": [
        "# Used for grading. Do not change."
      ],
      "id": "cfea0c35"
    },
    {
      "cell_type": "markdown",
      "metadata": {
        "id": "79cc415e-7715-4e0a-9315-0c4eba7fda6e"
      },
      "source": [
        "__Question 1.3__ Standardize the dataset you loaded earlier."
      ],
      "id": "79cc415e-7715-4e0a-9315-0c4eba7fda6e"
    },
    {
      "cell_type": "code",
      "execution_count": 9,
      "metadata": {
        "id": "84844508-836e-4d19-ba23-accd695212a9"
      },
      "outputs": [],
      "source": [
        "xs_train_std = (xs_train - np.mean(xs_train, axis=0)) / np.std(xs_train, axis=0)\n",
        "ys_train_std = (ys_train - np.mean(ys_train, axis=0))/np.std(ys_train, axis=0)\n",
        "xs_valid_std = (xs_valid - np.mean(xs_valid, axis=0))/np.std(xs_valid, axis=0)\n",
        "ys_valid_std = (ys_valid - np.mean(ys_valid, axis=0))/np.std(ys_valid, axis=0)\n",
        "xs_test_std = (xs_test - np.mean(xs_test, axis=0))/np.std(xs_test, axis=0)\n",
        "ys_test_std = (ys_test - np.mean(ys_test, axis=0))/np.std(ys_test, axis=0)\n",
        "# YOUR CODE HERE\n",
        "xs_train_std = (xs_train - xs_train.mean()) / xs_train.std()\n",
        "\n",
        "# raise NotImplementedError()"
      ],
      "id": "84844508-836e-4d19-ba23-accd695212a9"
    },
    {
      "cell_type": "markdown",
      "metadata": {
        "id": "b526b1e0-6be7-48dd-ae9a-3f42bb19421e"
      },
      "source": [
        "Use the following checks to make sure that your standardization does not change the data shapes."
      ],
      "id": "b526b1e0-6be7-48dd-ae9a-3f42bb19421e"
    },
    {
      "cell_type": "code",
      "execution_count": null,
      "metadata": {
        "id": "3edbb6f3-142a-490f-9eae-a6f93151f72b"
      },
      "outputs": [],
      "source": [
        "assert xs_train_std.shape == xs_train.shape, \"Normalizing is not supposed to change the shape of your data\"\n",
        "assert ys_train_std.shape == ys_train.shape, \"Normalizing is not supposed to change the shape of your data\"\n",
        "assert xs_valid_std.shape == xs_valid.shape, \"Normalizing is not supposed to change the shape of your data\"\n",
        "assert ys_valid_std.shape == ys_valid.shape, \"Normalizing is not supposed to change the shape of your data\"\n",
        "assert xs_test_std.shape == xs_test.shape, \"Normalizing is not supposed to change the shape of your data\"\n",
        "assert ys_test_std.shape == ys_test.shape, \"Normalizing is not supposed to change the shape of your data\""
      ],
      "id": "3edbb6f3-142a-490f-9eae-a6f93151f72b"
    },
    {
      "cell_type": "markdown",
      "metadata": {
        "id": "8bf95660-4ad0-4881-bf1a-082f559df758"
      },
      "source": [
        "Use the following checks to make sure that the training data has roughly mean 0 and variance 1 after standardizing."
      ],
      "id": "8bf95660-4ad0-4881-bf1a-082f559df758"
    },
    {
      "cell_type": "code",
      "execution_count": null,
      "metadata": {
        "id": "c1f26350-0561-4c88-a271-d533919e8a7d"
      },
      "outputs": [],
      "source": [
        "assert np.isclose(np.mean(xs_train_std), 0, atol=0.005), \"Training inputs mean should be 0\"\n",
        "assert np.isclose(np.mean(ys_train_std), 0, atol=0.005), \"Training outputs mean should be 0\"\n",
        "\n",
        "assert np.allclose(np.var(xs_train_std, axis=0), 1, atol=0.005), \"Training inputs variance should be 1\""
      ],
      "id": "c1f26350-0561-4c88-a271-d533919e8a7d"
    },
    {
      "cell_type": "code",
      "execution_count": null,
      "metadata": {
        "id": "0a7d5594"
      },
      "outputs": [],
      "source": [
        "# Used for grading. Do not change."
      ],
      "id": "0a7d5594"
    },
    {
      "cell_type": "code",
      "execution_count": null,
      "metadata": {
        "id": "f08bc306-ebbd-4cce-880f-bb76116db401"
      },
      "outputs": [],
      "source": [
        "# Used for grading. Do not change."
      ],
      "id": "f08bc306-ebbd-4cce-880f-bb76116db401"
    },
    {
      "cell_type": "code",
      "execution_count": null,
      "metadata": {
        "id": "932499ee-3e04-442c-9b68-372cb2cfabea"
      },
      "outputs": [],
      "source": [
        "# Used for grading. Do not change."
      ],
      "id": "932499ee-3e04-442c-9b68-372cb2cfabea"
    },
    {
      "cell_type": "code",
      "execution_count": null,
      "metadata": {
        "id": "ab864578-14d0-4c86-8fbe-03b6d1180cf7"
      },
      "outputs": [],
      "source": [
        "# Used for grading. Do not change."
      ],
      "id": "ab864578-14d0-4c86-8fbe-03b6d1180cf7"
    },
    {
      "cell_type": "markdown",
      "metadata": {
        "id": "bac93291-c4c4-4da2-8325-36c35d93cae2"
      },
      "source": [
        "## Linear regression\n",
        "### Simple linear regression\n",
        "__Question 1.4__ Implement a function that performs linear regression given input data and target values."
      ],
      "id": "bac93291-c4c4-4da2-8325-36c35d93cae2"
    },
    {
      "cell_type": "code",
      "execution_count": null,
      "metadata": {
        "id": "66fde431-013f-49d6-ac50-6eedeecff0da"
      },
      "outputs": [],
      "source": [
        "def my_linear_regression(phi: np.ndarray, ys: np.ndarray) -> np.ndarray:\n",
        "    \"\"\" Computes the weights of a linear regression that fits the given data.\n",
        "\n",
        "    Notes:\n",
        "        You may use np.linalg.solve to solve a system of linear equations.\n",
        "\n",
        "    Args:\n",
        "        phi: Input feature matrix of shape (N, D) containing N samples of dimension D.\n",
        "        ys: Target outputs of shape (N, 1) containing N 1-dimensional samples.\n",
        "\n",
        "    Returns:\n",
        "        A numpy array containing the regressed weights of shape (D, 1), containing one weight for each input dimension.\n",
        "    \"\"\"\n",
        "    # YOUR CODE HERE\n",
        "    N, D = phi.shape\n",
        "    one = np.ones((N, 1))\n",
        "    phi = np.concatenate([one, phi], axis=1)\n",
        "\n",
        "    # weights = np.linalg.solve(np.dot(phi.T, phi), np.dot(phi.T, ys))\n",
        "\n",
        "\n",
        "    # ans = np.linalg.inv(np.dot(phi.T, phi)).dot(phi.T).dot(ys)\n",
        "    phi_inv = np.linalg.pinv(phi)\n",
        "    res = np.matmul(phi_inv, ys)\n",
        "    # weight = np.matmul(inv_phi, ys)\n",
        "    weight = res[1:, :]\n",
        "    return weight\n",
        "\n",
        "    raise NotImplementedError()"
      ],
      "id": "66fde431-013f-49d6-ac50-6eedeecff0da"
    },
    {
      "cell_type": "markdown",
      "metadata": {
        "id": "cb754f21-52dd-4dee-a459-be039e0ac76e"
      },
      "source": [
        "Use the following checks to make sure your weights have the correct shape."
      ],
      "id": "cb754f21-52dd-4dee-a459-be039e0ac76e"
    },
    {
      "cell_type": "code",
      "execution_count": null,
      "metadata": {
        "id": "3533154e-4598-483b-8241-02928db3daad"
      },
      "outputs": [],
      "source": [
        "_my_weights = my_linear_regression(xs_train_std, ys_train_std)\n",
        "assert _my_weights.shape == (21, 1), \"Weights should have shape (D, 1).\""
      ],
      "id": "3533154e-4598-483b-8241-02928db3daad"
    },
    {
      "cell_type": "markdown",
      "metadata": {
        "id": "ccd3dd48-d004-44a9-892b-112abca3148f"
      },
      "source": [
        "If you implemented everything correctly so far, you should now get an MSE of roughly $31$. If your actual MSE deviates a lot from that, try to debug the code that you have written so far. Here you just have to run the cell below."
      ],
      "id": "ccd3dd48-d004-44a9-892b-112abca3148f"
    },
    {
      "cell_type": "code",
      "execution_count": null,
      "metadata": {
        "colab": {
          "base_uri": "https://localhost:8080/"
        },
        "id": "2b0c6004-95c2-4b39-8da1-96cf66bce537",
        "outputId": "ef10e8f8-3c81-4093-b4f3-11200953a777"
      },
      "outputs": [
        {
          "name": "stdout",
          "output_type": "stream",
          "text": [
            "Your MSE should be roughly 31 and it is 0.06822651411428722.\n"
          ]
        }
      ],
      "source": [
        "_my_y_valid_pred = xs_valid_std @ _my_weights\n",
        "_my_mse = my_mse(ys_valid_std, _my_y_valid_pred)\n",
        "print(f\"Your MSE should be roughly 31 and it is {_my_mse}.\")"
      ],
      "id": "2b0c6004-95c2-4b39-8da1-96cf66bce537"
    },
    {
      "cell_type": "code",
      "execution_count": null,
      "metadata": {
        "id": "626904b1"
      },
      "outputs": [],
      "source": [
        "# Used for grading. Do not change."
      ],
      "id": "626904b1"
    },
    {
      "cell_type": "markdown",
      "metadata": {
        "id": "10af368a-5a1a-4ef9-8df9-5d480510791d"
      },
      "source": [
        "### Linear regression with polynomial features\n",
        "__Question 1.5__ Implement a function that computes non-repeating features of degree up to two."
      ],
      "id": "10af368a-5a1a-4ef9-8df9-5d480510791d"
    },
    {
      "cell_type": "code",
      "execution_count": null,
      "metadata": {
        "id": "687e78cb-4c21-4798-b2e8-f7362b29f833"
      },
      "outputs": [],
      "source": [
        "def my_quadratic_features(xs: np.ndarray) -> np.ndarray:\n",
        "    \"\"\" Generates polynomial features up to degree 2 from given data.\n",
        "\n",
        "    The quadratic features should include monomials (i.e., x_i, x_i**2 etc)\n",
        "    and interaction terms (x_1*x_2 etc), but no repetitions (i.e. NOT both x_1*x_2 and x_2*x_1).\n",
        "    You should include a bias term.\n",
        "    The order of the samples should not be changed through the transformation.\n",
        "\n",
        "    Args:\n",
        "        xs: A 2D numpy array of shape (N, D) containing N samples of dimension D.\n",
        "\n",
        "    Returns:\n",
        "        An (N, M) numpy array containing the transformed input.\n",
        "    \"\"\"\n",
        "    # YOUR CODE HERE\n",
        "    N, D = xs.shape\n",
        "    transformed_xs = []\n",
        "\n",
        "    for i in range(D):\n",
        "        for j in range(i, D):\n",
        "            transformed_xs.append(xs[:, i] * xs[:, j])\n",
        "\n",
        "    return np.column_stack([np.ones(N)] + [xs] + transformed_xs)\n",
        "\n",
        "\n",
        "    raise NotImplementedError()"
      ],
      "id": "687e78cb-4c21-4798-b2e8-f7362b29f833"
    },
    {
      "cell_type": "markdown",
      "metadata": {
        "id": "b7a6c772-e1b3-492e-b1ac-699d0569e8b2"
      },
      "source": [
        "Use the following checks to make sure that your function produces the correct number of features in simple cases."
      ],
      "id": "b7a6c772-e1b3-492e-b1ac-699d0569e8b2"
    },
    {
      "cell_type": "code",
      "execution_count": null,
      "metadata": {
        "id": "1f2f5cd6-6c10-48fa-a289-001294d24d7a"
      },
      "outputs": [],
      "source": [
        "assert my_quadratic_features(np.array([[0, 1]])).shape == (1, 6), \"For 2D data, your function should produce 6D quadratic features.\"\n",
        "assert my_quadratic_features(np.array([[0, 1], [2, 3]])).shape == (2, 6), \"Your function should produce 6D quadratic features for every data point.\""
      ],
      "id": "1f2f5cd6-6c10-48fa-a289-001294d24d7a"
    },
    {
      "cell_type": "markdown",
      "metadata": {
        "id": "924d4655-ab4a-4392-a37c-4bb0c782a857"
      },
      "source": [
        "Use the following checks to make sure that your function produces the correct features in simple cases."
      ],
      "id": "924d4655-ab4a-4392-a37c-4bb0c782a857"
    },
    {
      "cell_type": "code",
      "execution_count": null,
      "metadata": {
        "id": "1be8f63c-db08-4cc9-9551-c9f781aa9358"
      },
      "outputs": [],
      "source": [
        "_01_quadratic_features = my_quadratic_features(np.array([[0, 1]]))\n",
        "assert {0, 1} == set(*_01_quadratic_features), \"Quadratic features of [0, 1] should include only 0s and 1s.\"\n",
        "_count_0 = np.count_nonzero(_01_quadratic_features == 0)\n",
        "_count_1 = np.count_nonzero(_01_quadratic_features == 1)\n",
        "assert _count_0 == 3, \"Quadratic features of [0, 1] should include 3 zeros (x_0, x_0**2, x_0*x_1)\"\n",
        "assert _count_1 == 3, \"Quadratic features of [0, 1] should include 3 ones (bias, x_1, x_1 ** 2)\"\n",
        "\n",
        "assert {1, 4, 5, 16, 20, 25} == set(*my_quadratic_features(np.array([[4, 5]]))), \"Quadratic features of [4, 5] should be any permutation of [1, 4, 5, 16, 20, 25].\""
      ],
      "id": "1be8f63c-db08-4cc9-9551-c9f781aa9358"
    },
    {
      "cell_type": "code",
      "execution_count": null,
      "metadata": {
        "id": "a900e51b"
      },
      "outputs": [],
      "source": [
        "# Used for grading. Do not change."
      ],
      "id": "a900e51b"
    },
    {
      "cell_type": "markdown",
      "metadata": {
        "id": "036938fa-4c45-4d4b-bdf2-b1fb3d091433"
      },
      "source": [
        "__Ungraded question 1.6__ Can you come up with a function for polynomial, non-repeating polynomial features for arbitrary degrees?"
      ],
      "id": "036938fa-4c45-4d4b-bdf2-b1fb3d091433"
    },
    {
      "cell_type": "markdown",
      "metadata": {
        "id": "c36f8b7c-1959-4cda-9756-907c42208189"
      },
      "source": [
        "__Question 1.7__ Generate polynomial features of up to degree 3 from your standardized train and test data."
      ],
      "id": "c36f8b7c-1959-4cda-9756-907c42208189"
    },
    {
      "cell_type": "code",
      "execution_count": null,
      "metadata": {
        "id": "8ee43c49-9d1d-4609-88c9-b116657da838"
      },
      "outputs": [],
      "source": [
        "from sklearn.preprocessing import PolynomialFeatures\n",
        "poly = PolynomialFeatures(3)\n",
        "xs_train_polynomial = poly.fit_transform(xs_train_std)\n",
        "xs_valid_polynomial = poly.fit_transform(xs_valid_std)\n",
        "# YOUR CODE HERE\n",
        "# raise NotImplementedError()"
      ],
      "id": "8ee43c49-9d1d-4609-88c9-b116657da838"
    },
    {
      "cell_type": "markdown",
      "metadata": {
        "id": "497fc20a-d493-4ffd-8415-1bc49e28a4a2"
      },
      "source": [
        "Use the following checks to make sure that the resulting polynomial features have the right shape."
      ],
      "id": "497fc20a-d493-4ffd-8415-1bc49e28a4a2"
    },
    {
      "cell_type": "code",
      "execution_count": null,
      "metadata": {
        "id": "a83a4066-6090-49c4-abfd-4cb3a24bcfa1"
      },
      "outputs": [],
      "source": [
        "assert xs_train_polynomial.shape == (35587, 2024)\n",
        "assert xs_valid_polynomial.shape == (8897, 2024)"
      ],
      "id": "a83a4066-6090-49c4-abfd-4cb3a24bcfa1"
    },
    {
      "cell_type": "code",
      "execution_count": null,
      "metadata": {
        "id": "9637831b"
      },
      "outputs": [],
      "source": [
        "# Used for grading. Do not change."
      ],
      "id": "9637831b"
    },
    {
      "cell_type": "markdown",
      "metadata": {
        "id": "67ae1ebe-b473-44b0-b4d0-98ae9c8c848e"
      },
      "source": [
        "Now run linear regression with polynomial features to obtain the optimal weights."
      ],
      "id": "67ae1ebe-b473-44b0-b4d0-98ae9c8c848e"
    },
    {
      "cell_type": "code",
      "execution_count": null,
      "metadata": {
        "id": "cc4000b3-f674-4198-b0f3-1dfb92c8fed2"
      },
      "outputs": [],
      "source": [
        "_my_weights = my_linear_regression(xs_train_polynomial, ys_train_std)\n",
        "assert _my_weights.shape == (2024, 1), \"Weights should have shape (D, 1).\""
      ],
      "id": "cc4000b3-f674-4198-b0f3-1dfb92c8fed2"
    },
    {
      "cell_type": "markdown",
      "metadata": {
        "id": "a186f3f4-fdaf-4b89-bab0-3f21891e4e20"
      },
      "source": [
        "Evaluate your model on the validation data. If you implemented everything correctly so far, you should now get an MSE of roughly $6.8$. Here you just have to run the cell below."
      ],
      "id": "a186f3f4-fdaf-4b89-bab0-3f21891e4e20"
    },
    {
      "cell_type": "code",
      "execution_count": null,
      "metadata": {
        "colab": {
          "base_uri": "https://localhost:8080/"
        },
        "id": "c162e703-388e-4ceb-9c06-198e4369eaa4",
        "outputId": "ea27d617-9dac-43cd-c47d-74a9994f6ac5"
      },
      "outputs": [
        {
          "name": "stdout",
          "output_type": "stream",
          "text": [
            "Your MSE should be roughly 6.8 and it is 0.015666648780560045.\n"
          ]
        }
      ],
      "source": [
        "_my_y_valid_pred = xs_valid_polynomial @ _my_weights\n",
        "_my_mse = my_mse(ys_valid_std, _my_y_valid_pred)\n",
        "print(f\"Your MSE should be roughly 6.8 and it is {_my_mse}.\")"
      ],
      "id": "c162e703-388e-4ceb-9c06-198e4369eaa4"
    },
    {
      "cell_type": "markdown",
      "metadata": {
        "id": "84fb8d2d-a05f-4fa7-a71f-28ac3511108e"
      },
      "source": [
        "You can check whether your model does not overfit by comparing the training and validation MSEs; they should have similar values for a model that does not overfit. Here you just have to run the cell below."
      ],
      "id": "84fb8d2d-a05f-4fa7-a71f-28ac3511108e"
    },
    {
      "cell_type": "code",
      "execution_count": null,
      "metadata": {
        "colab": {
          "base_uri": "https://localhost:8080/"
        },
        "id": "11679498",
        "outputId": "90f8eb97-c50a-4407-c50b-39b756417791"
      },
      "outputs": [
        {
          "name": "stdout",
          "output_type": "stream",
          "text": [
            "Your training MSE is 0.013493983575522247. Does your model overfit?\n"
          ]
        }
      ],
      "source": [
        "_my_y_train_pred = xs_train_polynomial @ _my_weights\n",
        "_my_train_mse = my_mse(ys_train_std, _my_y_train_pred)\n",
        "print(f\"Your training MSE is {_my_train_mse}. Does your model overfit?\")"
      ],
      "id": "11679498"
    },
    {
      "cell_type": "markdown",
      "metadata": {
        "id": "45adc17e-3b93-4545-84d3-3a42af2d58ec"
      },
      "source": [
        "## Clustering\n",
        "__Question 2.1__ Implement the basic $K$-Means algorithm."
      ],
      "id": "45adc17e-3b93-4545-84d3-3a42af2d58ec"
    },
    {
      "cell_type": "code",
      "execution_count": null,
      "metadata": {
        "id": "33940b20-d679-4710-927c-98269aacbcc3"
      },
      "outputs": [],
      "source": [
        "def my_kmeans(xs: np.ndarray, init_centers: np.ndarray, n_iter: int):\n",
        "    \"\"\" Runs the K-Means algorithm from a given initialization\n",
        "\n",
        "    Args:\n",
        "        xs: A 2D numpy array of shape (N, D) containing N samples of dimension D\n",
        "        init_centers: A 2D numpy array of shape (K, D) containing the K initial cluster centers of dimension D.\n",
        "        n_iter: The number of iterations for the K-Means algorithm.\n",
        "\n",
        "    Returns:\n",
        "        A (K, D) numpy array containing the final cluster centers.\n",
        "    \"\"\"\n",
        "\n",
        "    # YOUR CODE HERE\n",
        "    K, D = init_centers.shape\n",
        "    final = init_centers.copy()\n",
        "\n",
        "    for i in range(n_iter):\n",
        "      # distance\n",
        "      distance = np.linalg.norm(xs[:, np.newaxis, :] - init_centers, axis=2)\n",
        "      # find min\n",
        "      mini = np.argmin(distance, axis=1)\n",
        "      # calculate mean\n",
        "      for k in range(K):\n",
        "            cluster_points = xs[mini == k]\n",
        "            if len(cluster_points) > 0:\n",
        "                final[k] = np.mean(cluster_points, axis=0)\n",
        "\n",
        "    return final\n",
        "\n",
        "    raise NotImplementedError()"
      ],
      "id": "33940b20-d679-4710-927c-98269aacbcc3"
    },
    {
      "cell_type": "markdown",
      "metadata": {
        "id": "cc63828e-1c89-476d-9ed9-da8a4d4d7dd7"
      },
      "source": [
        "Use the following checks to make sure your algorithm produces centers of the correct shape and gives the correct result in the simplest case of 0 iterations."
      ],
      "id": "cc63828e-1c89-476d-9ed9-da8a4d4d7dd7"
    },
    {
      "cell_type": "code",
      "execution_count": null,
      "metadata": {
        "id": "b3754cb7-24ac-48f1-b171-4d473a21bbdf"
      },
      "outputs": [],
      "source": [
        "assert my_kmeans(\n",
        "    np.array([[0.92222276, 0.65417794, 0.81171083], [0.32436396, 0.43398054, 0.06203346], [0.66190191, 0.51464817, 0.53506438], [0.52361743, 0.82799732, 0.99989914]]),\n",
        "    np.array([[0.46606325, 0.30170084, 0.3454716], [0.09386854, 0.6876939 , 0.89328422]]),\n",
        "    3\n",
        ").shape == (2, 3), \"Final cluster centers must have the same shape as the initial cluster centers\"\n",
        "assert np.allclose(my_kmeans(np.random.rand(10, 4), __initial_centers := np.random.rand(3, 4), 0), __initial_centers), \"For 0 iterations, the final cluster centers must be identical to the initial cluster centers\""
      ],
      "id": "b3754cb7-24ac-48f1-b171-4d473a21bbdf"
    },
    {
      "cell_type": "code",
      "execution_count": null,
      "metadata": {
        "id": "8da13f00"
      },
      "outputs": [],
      "source": [
        "# Used for grading. Do not change."
      ],
      "id": "8da13f00"
    },
    {
      "cell_type": "markdown",
      "metadata": {
        "id": "c6b96972-1dee-4f54-a26e-7fed8ef09964"
      },
      "source": [
        "__Question 2.2__ Generate random data from four gaussian distributions."
      ],
      "id": "c6b96972-1dee-4f54-a26e-7fed8ef09964"
    },
    {
      "cell_type": "code",
      "execution_count": null,
      "metadata": {
        "id": "5eacb24e-5690-44d9-87ff-b91c782d0b20"
      },
      "outputs": [],
      "source": [
        "# xs_cluster_test = ...\n",
        "# YOUR CODE HERE\n",
        "means = [(-2, 2), (-2, -2), (2, -2), (2, 2)]\n",
        "covariances = [0.2 * np.eye(2), 0.2 * np.eye(2), 0.5 * np.eye(2), 0.5 * np.eye(2)]\n",
        "probabilities = [0.3, 0.2, 0.4, 0.1]\n",
        "\n",
        "xs_cluster_test = []\n",
        "for _ in range(100):\n",
        "    # 각 정규 분포를 선택 (p = 데이터가 선택될 확률)\n",
        "    chosen_distribution = np.random.choice(len(means), p=probabilities)\n",
        "\n",
        "    # 선택된 정규 분포로부터 데이터 생성 (평균과 공분산을 만족하는 포인트를 무작위로 뽑는다)\n",
        "    point = np.random.multivariate_normal(means[chosen_distribution], covariances[chosen_distribution])\n",
        "\n",
        "    # 데이터 리스트에 추가\n",
        "    xs_cluster_test.append(point)\n",
        "\n",
        "# 데이터를 NumPy 배열로 변환\n",
        "xs_cluster_test = np.array(xs_cluster_test)\n",
        "\n",
        "# raise NotImplementedError()"
      ],
      "id": "5eacb24e-5690-44d9-87ff-b91c782d0b20"
    },
    {
      "cell_type": "markdown",
      "metadata": {
        "id": "a2e29fda-bac3-45bd-aba7-007c3926c1e6"
      },
      "source": [
        "Use the following check to make sure your data has the correct shape."
      ],
      "id": "a2e29fda-bac3-45bd-aba7-007c3926c1e6"
    },
    {
      "cell_type": "code",
      "execution_count": null,
      "metadata": {
        "id": "3adc1d8a-5df0-4c8f-830c-278aa35d056b"
      },
      "outputs": [],
      "source": [
        "assert xs_cluster_test.shape == (100, 2), \"You should get 100 2D data points\""
      ],
      "id": "3adc1d8a-5df0-4c8f-830c-278aa35d056b"
    },
    {
      "cell_type": "markdown",
      "metadata": {
        "id": "998e9e25-2356-41c7-8e03-5e59271df077"
      },
      "source": [
        "__Question 2.3__ Run your $K$-Means algorithm on the test data for $K=2,3,4,5$ clusters and plot the final cluster centers."
      ],
      "id": "998e9e25-2356-41c7-8e03-5e59271df077"
    },
    {
      "cell_type": "code",
      "execution_count": null,
      "metadata": {
        "id": "f0513499-7558-43d8-b9f6-dade4e5a524e"
      },
      "outputs": [],
      "source": [
        "import matplotlib.pyplot as plt\n",
        "from sklearn.cluster import kmeans_plusplus\n",
        "\n",
        "def my_plot(xs: np.ndarray):\n",
        "    \"\"\" Plots the K-Means result for different numbers of cluster given 2-dimensional data.\n",
        "\n",
        "    Notes:\n",
        "        Use the `kmeans_plusplus` function to get initial cluster centers.\n",
        "\n",
        "    Args:\n",
        "        xs: A 2D numpy array of shape (N, 2) containing N 2-dimensional samples.\n",
        "    \"\"\"\n",
        "\n",
        "    plt.figure(figsize=(10, 10))\n",
        "    n_clusters = [2, 3, 4, 5]  # different numbers of clusters\n",
        "    f, axes = plt.subplots(2, 2)\n",
        "\n",
        "    # iterate over each cluster n in `n_clusters` with index i\n",
        "    for i, n in enumerate(n_clusters):\n",
        "        plt.subplot(2, 2, i + 1)\n",
        "        # YOUR CODE HERE\n",
        "        centers, indices = kmeans_plusplus(xs, n_clusters=n)\n",
        "        # Plot init seeds along side sample data\n",
        "        plt.scatter(xs[:, 0], xs[:, 1], c='b', marker=\".\", s=10)\n",
        "        plt.scatter(centers[:, 0], centers[:, 1], c=\"r\", s=50)\n",
        "\n",
        "\n",
        "        # raise NotImplementedError()"
      ],
      "id": "f0513499-7558-43d8-b9f6-dade4e5a524e"
    },
    {
      "cell_type": "markdown",
      "metadata": {
        "id": "e673b278-dec8-40eb-a3a0-cedf91cb5f09"
      },
      "source": [
        "Plot the data and the centers you get using your randomly generated data. You should get a result that looks conceptually similar to the plots that you find in the assignment PDF. Here you just have to run the cell below."
      ],
      "id": "e673b278-dec8-40eb-a3a0-cedf91cb5f09"
    },
    {
      "cell_type": "code",
      "execution_count": null,
      "metadata": {
        "colab": {
          "base_uri": "https://localhost:8080/",
          "height": 448
        },
        "id": "3874ba96-0787-4d76-b216-79b4745e85a4",
        "outputId": "d40ff97a-bfaf-456b-e1ab-17681cfefe15"
      },
      "outputs": [
        {
          "data": {
            "text/plain": [
              "<Figure size 1000x1000 with 0 Axes>"
            ]
          },
          "metadata": {},
          "output_type": "display_data"
        },
        {
          "data": {
            "image/png": "[encoded data removed]",
            "text/plain": [
              "<Figure size 640x480 with 4 Axes>"
            ]
          },
          "metadata": {},
          "output_type": "display_data"
        }
      ],
      "source": [
        "my_plot(xs_cluster_test)"
      ],
      "id": "3874ba96-0787-4d76-b216-79b4745e85a4"
    },
    {
      "cell_type": "markdown",
      "metadata": {
        "id": "58455729-9d0d-4da8-8477-2617fb22f1f9"
      },
      "source": [
        "## Radial Basis Functions Network\n",
        "__Question 3.1__ Find $K=100$ cluster centers using $K$-Means."
      ],
      "id": "58455729-9d0d-4da8-8477-2617fb22f1f9"
    },
    {
      "cell_type": "code",
      "execution_count": null,
      "metadata": {
        "id": "be05f2c2-b6ea-4c9c-9ba5-a0b06be3eb3a"
      },
      "outputs": [],
      "source": [
        "from sklearn.cluster import KMeans\n",
        "\n",
        "def find_centers(xs: np.ndarray, n_clusters: int=100) -> np.ndarray:\n",
        "    \"\"\" Computes KMeans cluster centers for the given data.\n",
        "\n",
        "    Even though we will use this function to compute centers for our 21-dimensional data points,\n",
        "    this function should work for arbitrary dimensions.\n",
        "\n",
        "    Notes:\n",
        "        Use the predefined KMeans algorithm provided by sklearn.\n",
        "\n",
        "    Args:\n",
        "        xs: A 2D numpy array of shape (N, D) containing N D-dimensional samples.\n",
        "        n_clusters: Number of clusters to use.\n",
        "\n",
        "    Returns:\n",
        "        n_clusters D-dimensional cluster centers as a numpy array of shape (n_clusters, D).\n",
        "    \"\"\"\n",
        "\n",
        "    # YOUR CODE HERE\n",
        "    N, D = xs.shape\n",
        "    kmeans = KMeans(n_clusters)\n",
        "    kmeans.fit(xs)\n",
        "    return kmeans.cluster_centers_\n",
        "\n",
        "    raise NotImplementedError()"
      ],
      "id": "be05f2c2-b6ea-4c9c-9ba5-a0b06be3eb3a"
    },
    {
      "cell_type": "markdown",
      "metadata": {
        "id": "c57a2ec3-712f-435d-9393-76f8f2a36a53"
      },
      "source": [
        "Use the following check to make sure you get the correct number of centers with the correct dimensionality."
      ],
      "id": "c57a2ec3-712f-435d-9393-76f8f2a36a53"
    },
    {
      "cell_type": "code",
      "execution_count": null,
      "metadata": {
        "colab": {
          "base_uri": "https://localhost:8080/"
        },
        "id": "bc434822-7cb9-4f93-8e04-07cd7ab594d4",
        "outputId": "4fc27943-0511-476d-ba55-4c2322f57450"
      },
      "outputs": [
        {
          "name": "stderr",
          "output_type": "stream",
          "text": [
            "/usr/local/lib/python3.10/dist-packages/sklearn/cluster/_kmeans.py:870: FutureWarning: The default value of `n_init` will change from 10 to 'auto' in 1.4. Set the value of `n_init` explicitly to suppress the warning\n",
            "  warnings.warn(\n"
          ]
        }
      ],
      "source": [
        "# This 100x21 numpy array should contain the cluster centers\n",
        "xs_centers = find_centers(xs_train_std)\n",
        "assert xs_centers.shape == (100, 21), \"You should get 100 clusters around 21-dimensional centers.\""
      ],
      "id": "bc434822-7cb9-4f93-8e04-07cd7ab594d4"
    },
    {
      "cell_type": "markdown",
      "metadata": {
        "id": "106fa318-9517-44ec-a822-1796a02167a7"
      },
      "source": [
        "__Question 3.2__ Implement the element-wise Gaussian radial function."
      ],
      "id": "106fa318-9517-44ec-a822-1796a02167a7"
    },
    {
      "cell_type": "code",
      "execution_count": null,
      "metadata": {
        "id": "cb2753d7-7e01-4b6e-84ef-d10f4fdb98af"
      },
      "outputs": [],
      "source": [
        "def my_gaussian(r: np.ndarray, sigma: float) -> np.ndarray:\n",
        "    \"\"\" Gaussian probability density function.\n",
        "\n",
        "    The function is applied element-wise.\n",
        "\n",
        "    Args:\n",
        "        r: A numpy array of arbitrary shape to apply the gaussian to (element-wise).\n",
        "        sigma: Variance used for normalization.\n",
        "\n",
        "    Returns:\n",
        "        A numpy array of the same shape as the input r to which the gaussian was applied.\n",
        "    \"\"\"\n",
        "    # YOUR CODE HERE\n",
        "    exp = np.exp(-(r**2) / (2*(sigma**2)))\n",
        "    res = (1 / np.sqrt(2* np.pi * (sigma**2))) * exp\n",
        "    return res\n",
        "    raise NotImplementedError()"
      ],
      "id": "cb2753d7-7e01-4b6e-84ef-d10f4fdb98af"
    },
    {
      "cell_type": "markdown",
      "metadata": {
        "id": "ccffbf63-15e5-40e1-b453-dd26a697549d"
      },
      "source": [
        "Use the following check to make sure you apply the gaussian element-wise to the input data."
      ],
      "id": "ccffbf63-15e5-40e1-b453-dd26a697549d"
    },
    {
      "cell_type": "code",
      "execution_count": null,
      "metadata": {
        "id": "33eb2d57-444a-4b87-9d5d-c00e549ed429"
      },
      "outputs": [],
      "source": [
        "_test_data = np.array([[0, 1, 2, 3, 4], [5, 6, 7, 8, 9]])\n",
        "assert my_gaussian(_test_data, 1).shape == (2, 5), \"The Gaussian should not change the shape of the data you apply it to as it must be applied element-wise.\""
      ],
      "id": "33eb2d57-444a-4b87-9d5d-c00e549ed429"
    },
    {
      "cell_type": "code",
      "execution_count": null,
      "metadata": {
        "id": "be074fd1-6ba6-4a00-b763-7833ad5d9bc5"
      },
      "outputs": [],
      "source": [
        "# Used for grading. Do not change."
      ],
      "id": "be074fd1-6ba6-4a00-b763-7833ad5d9bc5"
    },
    {
      "cell_type": "markdown",
      "metadata": {
        "id": "2dd8f95a"
      },
      "source": [
        "__Question 3.3__ Implement the function `compute_rbf_features`, which takes as input the standardized data, cluster centers, and scale $\\sigma$ and outputs the feature matrix (with a bias term)."
      ],
      "id": "2dd8f95a"
    },
    {
      "cell_type": "markdown",
      "metadata": {
        "id": "cJFKJE9-mTMJ"
      },
      "source": [
        "RBF: radial basic function\n",
        "\n",
        "1. 숨겨진 층이 하나뿐\n",
        "\n",
        "2. 선형 출력층\n",
        "\n",
        "3. 가중치 계산 용이\n",
        "\n",
        "4. 유클리드 거리 측정 데이터를 기반으로 동작\n",
        "\n"
      ],
      "id": "cJFKJE9-mTMJ"
    },
    {
      "cell_type": "markdown",
      "metadata": {
        "id": "VGXRFXfEmwzF"
      },
      "source": [
        "RBF의 함수는 여러가지지만, 대표적으로\n",
        "\n",
        "1. 가우시안: f = exp(-d**2/ (2 * σ**2))\n",
        "\n",
        "2. Think plate spline : f = {d^2}ln(d)\n",
        "\n",
        "3. quadratic: f = sqrt(d^2 + r^2)"
      ],
      "id": "VGXRFXfEmwzF"
    },
    {
      "cell_type": "markdown",
      "metadata": {
        "id": "9BcKAEYMnk82"
      },
      "source": [
        "대표적으로 쓰이는건 가우시안 함수.\n",
        "\n",
        "$f_j(x) = exp({-\\sum_{i=1}^N (x_i-\\mu_j)^2 \\over 2σ^2})$\n",
        "\n",
        "여기서\n",
        "\n",
        "μ = center\n",
        "\n",
        "σ^2 = width\n",
        "\n",
        "로 생각하면 된다"
      ],
      "id": "9BcKAEYMnk82"
    },
    {
      "cell_type": "code",
      "execution_count": null,
      "metadata": {
        "id": "f17b944f"
      },
      "outputs": [],
      "source": [
        "def compute_rbf_features(xs: np.ndarray, centers: np.ndarray, sigma: float) -> np.ndarray:\n",
        "    \"\"\" Computes the feature matrix for the data xs with the given cluster centers and scale.\n",
        "\n",
        "    For the distance, use the euclidean norm.\n",
        "    Your transformation should not change the order of data points or centers.\n",
        "\n",
        "    Notes:\n",
        "        You may use np.linalg.norm(x) to get the norm of a vector or matrix x.\n",
        "        To get the norm along a specified axis a, use np.linalg.norm(x, axis=a)\n",
        "\n",
        "    Args:\n",
        "        xs: 2D numpy array of shape (N, D) containing N D-dimensional data points.\n",
        "        centers: 2D numpy array of shape (K, D) containing K D-dimensional centers.\n",
        "        sigma: Variance used for normalization.\n",
        "\n",
        "    Returns:\n",
        "        A 2D numpy array of shape (N, K) containing the transformations for each pair of data points and cluster centers.\n",
        "    \"\"\"\n",
        "    # YOUR CODE HERE\n",
        "    N, D = xs.shape\n",
        "    K = centers.shape[0]\n",
        "    rbf = np.ones((N, K+1))\n",
        "\n",
        "    for n in range(N):\n",
        "      for k in range(K):\n",
        "        distance = np.linalg.norm([xs[n] - centers[k]])\n",
        "\n",
        "        rbf[n, k+1] = np.exp(-(distance**2) / (2 * sigma**2))\n",
        "\n",
        "    return rbf\n",
        "    raise NotImplementedError()"
      ],
      "id": "f17b944f"
    },
    {
      "cell_type": "markdown",
      "metadata": {
        "id": "6fa8c111-5bd2-4709-8b2e-af88db11c5fe"
      },
      "source": [
        "Use the following checks to make sure your transformation produces the correct result in simple cases."
      ],
      "id": "6fa8c111-5bd2-4709-8b2e-af88db11c5fe"
    },
    {
      "cell_type": "code",
      "execution_count": null,
      "metadata": {
        "id": "55a96219-9c21-4da7-82bd-add12e18d00c"
      },
      "outputs": [],
      "source": [
        "_test_data = np.array([[0, 1, 2, 3, 4], [5, 6, 7, 8, 9]])\n",
        "_test_centers_1 = np.array([[0, 0, 0, 0, 0.]])\n",
        "_test_centers_2 = np.array([[0, 0, 0, 0, 0.], [5, 5, 5, 5, 5.]])\n",
        "_message = \"Your transformation should output an array of shape (N, M+1), where N is the number of points and M is the number of cluster centers.\"\n",
        "assert compute_rbf_features(_test_data, _test_centers_1, 1).shape == (2, 2), _message\n",
        "assert compute_rbf_features(_test_data, _test_centers_2, 1).shape == (2, 3), _message\n",
        "\n",
        "_features_far_data = compute_rbf_features(np.array([[0, 0, 0]]), np.array([[100, 200, 300]]), 1)\n",
        "_expected_output = np.array([1., 0.])\n",
        "assert np.allclose(_features_far_data, _expected_output) or np.allclose(_features_far_data[::-1], _expected_output), \"For a data point this far from the center, the transformation should be roughly [1., 0.]\""
      ],
      "id": "55a96219-9c21-4da7-82bd-add12e18d00c"
    },
    {
      "cell_type": "code",
      "execution_count": null,
      "metadata": {
        "id": "e6069d01"
      },
      "outputs": [],
      "source": [
        "# Used for grading. Do not change."
      ],
      "id": "e6069d01"
    },
    {
      "cell_type": "code",
      "execution_count": null,
      "metadata": {
        "id": "ae65a83c-4df4-4e75-9f2b-cf421c646c37"
      },
      "outputs": [],
      "source": [
        "# Used for grading. Do not change."
      ],
      "id": "ae65a83c-4df4-4e75-9f2b-cf421c646c37"
    },
    {
      "cell_type": "markdown",
      "metadata": {
        "id": "77531373-8c4a-4569-aa6e-96693fa4bda3"
      },
      "source": [
        "__Question 3.4__ Run simple linear regression on the transformed data and evaluate it on both the training and validation sets."
      ],
      "id": "77531373-8c4a-4569-aa6e-96693fa4bda3"
    },
    {
      "cell_type": "code",
      "execution_count": null,
      "metadata": {
        "colab": {
          "base_uri": "https://localhost:8080/"
        },
        "id": "oKf9TZmU-2uL",
        "outputId": "9dc697c9-a810-42b7-b537-5c53dc72f596"
      },
      "outputs": [
        {
          "name": "stderr",
          "output_type": "stream",
          "text": [
            "/usr/local/lib/python3.10/dist-packages/sklearn/cluster/_kmeans.py:870: FutureWarning: The default value of `n_init` will change from 10 to 'auto' in 1.4. Set the value of `n_init` explicitly to suppress the warning\n",
            "  warnings.warn(\n"
          ]
        }
      ],
      "source": [
        "#  밑에 코드는 원래 썼던거고 지금 뭔가 이상해서 다시 적은거임.. 일단 다시 해보고\n",
        "xs_train_gauss = compute_rbf_features(xs_train_std, xs_centers, 25)\n",
        "_my_weights = my_linear_regression(xs_train_gauss, ys_train_std)\n",
        "\n",
        "# _my_y_valid_pred = xs_valid_std @ _my_weights\n",
        "\n",
        "ys_train_pred = xs_train_gauss @ _my_weights\n",
        "\n",
        "xs_valid_centers = find_centers(xs_valid_std)\n",
        "xs_valid_gauss = compute_rbf_features(xs_valid_std, xs_valid_centers, 25)\n",
        "_valid_weights = my_linear_regression(xs_valid_gauss, ys_valid_std)\n",
        "ys_valid_pred = xs_valid_gauss @ _valid_weights\n",
        "# YOUR CODE HERE\n",
        "# raise NotImplementedError()"
      ],
      "id": "oKf9TZmU-2uL"
    },
    {
      "cell_type": "code",
      "execution_count": null,
      "metadata": {
        "colab": {
          "base_uri": "https://localhost:8080/"
        },
        "id": "73f5a4ae-7ef7-4174-8597-4c36b2206c12",
        "outputId": "ba679ca0-fd9b-4d22-f8c9-2a1293f26c09"
      },
      "outputs": [
        {
          "name": "stderr",
          "output_type": "stream",
          "text": [
            "/usr/local/lib/python3.10/dist-packages/sklearn/cluster/_kmeans.py:870: FutureWarning: The default value of `n_init` will change from 10 to 'auto' in 1.4. Set the value of `n_init` explicitly to suppress the warning\n",
            "  warnings.warn(\n"
          ]
        }
      ],
      "source": [
        "xs_train_gauss = compute_rbf_features(xs_train_std, xs_centers, 25)\n",
        "_my_weights = my_linear_regression(xs_train_gauss, ys_train_std)\n",
        "\n",
        "ys_train_pred = xs_train_gauss @ _my_weights\n",
        "\n",
        "# valid set\n",
        "xs_valid_centers = find_centers(xs_valid_std)\n",
        "\n",
        "xs_valid_gauss = compute_rbf_features(xs_valid_std, xs_valid_centers, 25)\n",
        "_valid_weights = my_linear_regression(xs_valid_gauss, ys_valid_std)\n",
        "\n",
        "ys_valid_pred = xs_valid_gauss @ _valid_weights\n",
        "# YOUR CODE HERE\n",
        "# raise NotImplementedError()"
      ],
      "id": "73f5a4ae-7ef7-4174-8597-4c36b2206c12"
    },
    {
      "cell_type": "markdown",
      "metadata": {
        "id": "83b5168b-01f8-4f45-b6a6-2d9d045cd575"
      },
      "source": [
        "If you implemented everything correctly so far, you should now get an MSE of roughly $18.3$. You can check this by running the cell below."
      ],
      "id": "83b5168b-01f8-4f45-b6a6-2d9d045cd575"
    },
    {
      "cell_type": "code",
      "execution_count": null,
      "metadata": {
        "colab": {
          "base_uri": "https://localhost:8080/"
        },
        "id": "69d24a10-d924-4b46-ab8a-eef874bd4046",
        "outputId": "609790fb-0ccc-4264-8969-99e1ae047984"
      },
      "outputs": [
        {
          "name": "stdout",
          "output_type": "stream",
          "text": [
            "Your validation MSE should be roughly 18.3 and it is 1.2934497195673023\n"
          ]
        }
      ],
      "source": [
        "_mse = my_mse(ys_valid_std, ys_valid_pred)\n",
        "print(f\"Your validation MSE should be roughly 18.3 and it is {_mse}\")"
      ],
      "id": "69d24a10-d924-4b46-ab8a-eef874bd4046"
    },
    {
      "cell_type": "markdown",
      "metadata": {
        "id": "162ed5b3"
      },
      "source": [
        "You can check that your model does not overfit by comparing the training and validation MSEs; they should have similar values for a model that does not overfit. Here you just have to run the cell below."
      ],
      "id": "162ed5b3"
    },
    {
      "cell_type": "code",
      "execution_count": null,
      "metadata": {
        "colab": {
          "base_uri": "https://localhost:8080/"
        },
        "id": "b9a8586b",
        "outputId": "29527d32-6a27-473f-a0d5-13f14b328605"
      },
      "outputs": [
        {
          "name": "stdout",
          "output_type": "stream",
          "text": [
            "Your training MSE is 22.646750441951145. Does your model overfit?\n"
          ]
        }
      ],
      "source": [
        "_my_train_mse = my_mse(ys_train_std, ys_train_pred)\n",
        "print(f\"Your training MSE is {_my_train_mse}. Does your model overfit?\")"
      ],
      "id": "b9a8586b"
    },
    {
      "cell_type": "markdown",
      "metadata": {
        "id": "fb4a1c9b-ef49-4902-9b29-338a000ec965"
      },
      "source": [
        "__Ungraded question 3.5__ Can you improve the performance of the RBF network?"
      ],
      "id": "fb4a1c9b-ef49-4902-9b29-338a000ec965"
    },
    {
      "cell_type": "code",
      "execution_count": null,
      "metadata": {
        "colab": {
          "base_uri": "https://localhost:8080/"
        },
        "id": "_8tOIFB4wTl6",
        "outputId": "4b3147db-e865-42e0-b1d1-8e09134c9c81"
      },
      "outputs": [
        {
          "name": "stderr",
          "output_type": "stream",
          "text": [
            "/usr/local/lib/python3.10/dist-packages/sklearn/cluster/_kmeans.py:870: FutureWarning: The default value of `n_init` will change from 10 to 'auto' in 1.4. Set the value of `n_init` explicitly to suppress the warning\n",
            "  warnings.warn(\n",
            "/usr/local/lib/python3.10/dist-packages/sklearn/cluster/_kmeans.py:870: FutureWarning: The default value of `n_init` will change from 10 to 'auto' in 1.4. Set the value of `n_init` explicitly to suppress the warning\n",
            "  warnings.warn(\n"
          ]
        },
        {
          "name": "stdout",
          "output_type": "stream",
          "text": [
            "Your validation MSE should be roughly 18.3 and it is 155.46234810630307\n",
            "Your training MSE is 56.14941191132842. Does your model overfit?\n"
          ]
        }
      ],
      "source": [
        "# regularized dataset\n",
        "from sklearn.preprocessing import MinMaxScaler\n",
        "scaler = MinMaxScaler()\n",
        "xs_train_reg = scaler.fit_transform(xs_train)\n",
        "ys_train_reg = scaler.fit_transform(ys_train)\n",
        "xs_valid_reg = scaler.fit_transform(xs_valid)\n",
        "ys_valid_reg = scaler.fit_transform(ys_valid)\n",
        "xs_test_reg = scaler.fit_transform(xs_test)\n",
        "ys_test_reg = scaler.fit_transform(ys_test)\n",
        "# YOUR CODE HERE\n",
        "\n",
        "# train set\n",
        "xs_train_reg_centers = find_centers(xs_train_reg)\n",
        "xs_train_reg_gauss = compute_rbf_features(xs_train_reg, xs_train_reg_centers, 25)\n",
        "train_reg_weights = my_linear_regression(xs_train_reg_gauss, ys_train_reg)\n",
        "\n",
        "ys_train_reg_pred = xs_train_reg_gauss @ train_reg_weights\n",
        "\n",
        "# valid set\n",
        "xs_valid_reg_centers = find_centers(xs_valid_reg)\n",
        "xs_valid_reg_gauss = compute_rbf_features(xs_valid_reg, xs_valid_reg_centers, 25)\n",
        "valid_reg_weights = my_linear_regression(xs_valid_reg_gauss, ys_valid_reg)\n",
        "\n",
        "ys_valid_reg_pred = xs_valid_reg_gauss @ valid_reg_weights\n",
        "\n",
        "_mse = my_mse(ys_valid_reg, ys_valid_reg_pred)\n",
        "print(f\"Your validation MSE should be roughly 18.3 and it is {_mse}\")\n",
        "\n",
        "_my_train_mse = my_mse(ys_train_reg, ys_train_reg_pred)\n",
        "print(f\"Your training MSE is {_my_train_mse}. Does your model overfit?\")\n"
      ],
      "id": "_8tOIFB4wTl6"
    },
    {
      "cell_type": "markdown",
      "metadata": {
        "id": "e1d3b173-906a-4d83-9a11-4b53e28f1cea"
      },
      "source": [
        "__Question 3.6__ Evaluate your final model on the test data"
      ],
      "id": "e1d3b173-906a-4d83-9a11-4b53e28f1cea"
    },
    {
      "cell_type": "code",
      "execution_count": null,
      "metadata": {
        "colab": {
          "base_uri": "https://localhost:8080/"
        },
        "id": "5b2a808f-0a59-4d19-9bb3-87995e3949bf",
        "outputId": "91ffdf11-d94d-46ed-ef07-7f5273ffdf55"
      },
      "outputs": [
        {
          "name": "stderr",
          "output_type": "stream",
          "text": [
            "/usr/local/lib/python3.10/dist-packages/sklearn/cluster/_kmeans.py:870: FutureWarning: The default value of `n_init` will change from 10 to 'auto' in 1.4. Set the value of `n_init` explicitly to suppress the warning\n",
            "  warnings.warn(\n"
          ]
        },
        {
          "name": "stdout",
          "output_type": "stream",
          "text": [
            "Your model achieved an MSE of 18.71931364148543 on the test set.\n"
          ]
        }
      ],
      "source": [
        "# This should contain the predictions on the test data set\n",
        "\n",
        "xs_test_centers = find_centers(xs_test_std)\n",
        "xs_test_gauss = compute_rbf_features(xs_test_std, xs_test_centers, 25)\n",
        "test_weights = my_linear_regression(xs_test_gauss, ys_test_std)\n",
        "\n",
        "ys_pred_test = xs_test_gauss @ test_weights\n",
        "\n",
        "# This should contain the resulting MSE on the test data\n",
        "mse_test = my_mse(ys_test_std, ys_pred_test)\n",
        "# YOUR CODE HERE\n",
        "# raise NotImplementedError()\n",
        "\n",
        "print(f\"Your model achieved an MSE of {mse_test} on the test set.\")"
      ],
      "id": "5b2a808f-0a59-4d19-9bb3-87995e3949bf"
    },
    {
      "cell_type": "markdown",
      "metadata": {
        "id": "e9728999-4f79-4697-a18a-0e91c3269dd2"
      },
      "source": [
        "Use the following check to make sure your predictions have the correct shape."
      ],
      "id": "e9728999-4f79-4697-a18a-0e91c3269dd2"
    },
    {
      "cell_type": "code",
      "execution_count": null,
      "metadata": {
        "id": "d75c6fa8"
      },
      "outputs": [],
      "source": [
        "assert ys_pred_test.shape == ys_test_std.shape"
      ],
      "id": "d75c6fa8"
    }
  ],
  "metadata": {
    "colab": {
      "provenance": []
    },
    "kernelspec": {
      "display_name": "Python 3 (ipykernel)",
      "language": "python",
      "name": "python3"
    },
    "language_info": {
      "codemirror_mode": {
        "name": "ipython",
        "version": 3
      },
      "file_extension": ".py",
      "mimetype": "text/x-python",
      "name": "python",
      "nbconvert_exporter": "python",
      "pygments_lexer": "ipython3",
      "version": "3.10.6"
    },
    "vscode": {
      "interpreter": {
        "hash": "c82db3a7fbcff1b4594e8da8ebd8f4f074de2b988865db184d677ab538415b02"
      }
    }
  },
  "nbformat": 4,
  "nbformat_minor": 5
}